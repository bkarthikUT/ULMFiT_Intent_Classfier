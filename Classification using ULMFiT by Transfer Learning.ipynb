{
 "cells": [
  {
   "cell_type": "code",
   "execution_count": 75,
   "metadata": {},
   "outputs": [],
   "source": [
    "%reload_ext autoreload\n",
    "%autoreload 2\n",
    "%matplotlib inline"
   ]
  },
  {
   "cell_type": "code",
   "execution_count": 76,
   "metadata": {},
   "outputs": [],
   "source": [
    "from fastai.text import *\n",
    "import torch"
   ]
  },
  {
   "cell_type": "code",
   "execution_count": 77,
   "metadata": {},
   "outputs": [
    {
     "data": {
      "text/plain": [
       "'1.0.42'"
      ]
     },
     "execution_count": 77,
     "metadata": {},
     "output_type": "execute_result"
    }
   ],
   "source": [
    "import fastai\n",
    "fastai.__version__"
   ]
  },
  {
   "cell_type": "code",
   "execution_count": 78,
   "metadata": {},
   "outputs": [
    {
     "data": {
      "text/plain": [
       "device(type='cpu')"
      ]
     },
     "execution_count": 78,
     "metadata": {},
     "output_type": "execute_result"
    }
   ],
   "source": [
    "# defaults.device = torch.device('cpu')\n",
    "# defaults.device"
   ]
  },
  {
   "cell_type": "code",
   "execution_count": 79,
   "metadata": {},
   "outputs": [
    {
     "data": {
      "text/html": [
       "<div>\n",
       "<style scoped>\n",
       "    .dataframe tbody tr th:only-of-type {\n",
       "        vertical-align: middle;\n",
       "    }\n",
       "\n",
       "    .dataframe tbody tr th {\n",
       "        vertical-align: top;\n",
       "    }\n",
       "\n",
       "    .dataframe thead th {\n",
       "        text-align: right;\n",
       "    }\n",
       "</style>\n",
       "<table border=\"1\" class=\"dataframe\">\n",
       "  <thead>\n",
       "    <tr style=\"text-align: right;\">\n",
       "      <th></th>\n",
       "      <th>label</th>\n",
       "      <th>text</th>\n",
       "      <th>is_valid</th>\n",
       "    </tr>\n",
       "  </thead>\n",
       "  <tbody>\n",
       "    <tr>\n",
       "      <th>0</th>\n",
       "      <td>account_blocked</td>\n",
       "      <td>why is there a hold on my american saving bank...</td>\n",
       "      <td>True</td>\n",
       "    </tr>\n",
       "    <tr>\n",
       "      <th>1</th>\n",
       "      <td>account_blocked</td>\n",
       "      <td>i am nost sure why my account is blocked</td>\n",
       "      <td>True</td>\n",
       "    </tr>\n",
       "    <tr>\n",
       "      <th>2</th>\n",
       "      <td>account_blocked</td>\n",
       "      <td>why is there a hold on my capital one checking...</td>\n",
       "      <td>True</td>\n",
       "    </tr>\n",
       "    <tr>\n",
       "      <th>3</th>\n",
       "      <td>account_blocked</td>\n",
       "      <td>i think my account is blocked but i do not kno...</td>\n",
       "      <td>True</td>\n",
       "    </tr>\n",
       "    <tr>\n",
       "      <th>4</th>\n",
       "      <td>account_blocked</td>\n",
       "      <td>can you tell me why is my bank account frozen</td>\n",
       "      <td>True</td>\n",
       "    </tr>\n",
       "  </tbody>\n",
       "</table>\n",
       "</div>"
      ],
      "text/plain": [
       "             label                                               text  \\\n",
       "0  account_blocked  why is there a hold on my american saving bank...   \n",
       "1  account_blocked           i am nost sure why my account is blocked   \n",
       "2  account_blocked  why is there a hold on my capital one checking...   \n",
       "3  account_blocked  i think my account is blocked but i do not kno...   \n",
       "4  account_blocked      can you tell me why is my bank account frozen   \n",
       "\n",
       "   is_valid  \n",
       "0      True  \n",
       "1      True  \n",
       "2      True  \n",
       "3      True  \n",
       "4      True  "
      ]
     },
     "execution_count": 79,
     "metadata": {},
     "output_type": "execute_result"
    }
   ],
   "source": [
    "df = pd.read_csv('./Final_Intent_Dataset.csv')\n",
    "#df = pd.read_csv('./Common_train_valid_dataset.csv')\n",
    "df.head()"
   ]
  },
  {
   "cell_type": "code",
   "execution_count": 80,
   "metadata": {},
   "outputs": [
    {
     "data": {
      "text/plain": [
       "'i am nost sure why my account is blocked'"
      ]
     },
     "execution_count": 80,
     "metadata": {},
     "output_type": "execute_result"
    }
   ],
   "source": [
    "df['text'][1]"
   ]
  },
  {
   "cell_type": "code",
   "execution_count": 81,
   "metadata": {},
   "outputs": [],
   "source": [
    "path = '/notebooks/storage/'"
   ]
  },
  {
   "cell_type": "markdown",
   "metadata": {},
   "source": [
    "### Language Model"
   ]
  },
  {
   "cell_type": "code",
   "execution_count": 82,
   "metadata": {},
   "outputs": [],
   "source": [
    "data_lm = TextDataBunch.from_csv(path, 'Final_Intent_Dataset.csv')\n",
    "#data_lm = TextDataBunch.from_csv(path, 'Common_train_valid_dataset.csv')"
   ]
  },
  {
   "cell_type": "code",
   "execution_count": 83,
   "metadata": {},
   "outputs": [],
   "source": [
    "data_lm.save('tmp_lm')"
   ]
  },
  {
   "cell_type": "code",
   "execution_count": 84,
   "metadata": {},
   "outputs": [],
   "source": [
    "data_lm = TextLMDataBunch.load(path, 'tmp_lm', bs=32)"
   ]
  },
  {
   "cell_type": "code",
   "execution_count": 85,
   "metadata": {},
   "outputs": [
    {
     "data": {
      "text/html": [
       "<table>  <col width='5%'>  <col width='95%'>  <tr>\n",
       "    <th>idx</th>\n",
       "    <th>text</th>\n",
       "  </tr>\n",
       "  <tr>\n",
       "    <th>0</th>\n",
       "    <th>some more checks for my bank of the west account xxbos how do i go about getting direct deposit in my usaa account xxbos send me xxunk of how to do a xxunk xxunk xxbos does xxunk xxunk any better plans than the one i 'm on xxbos where do i redeem my credit card points xxbos what 's the blue book value of my car xxbos place a block</th>\n",
       "  </tr>\n",
       "  <tr>\n",
       "    <th>1</th>\n",
       "    <th>rate between usd and xxunk xxbos dollar to pesos exchange rate xxbos how long does it take to get a divorce xxunk xxbos how many people xxunk from mental illness xxbos create a for - while xxunk that xxunk 10 times xxbos what is my interest rate payment xxbos do you know the expiration date that is on my visa card xxbos what 's the xxunk time it takes for</th>\n",
       "  </tr>\n",
       "  <tr>\n",
       "    <th>2</th>\n",
       "    <th>do i have to do to use my credit points xxunk through purchases xxbos show me my credit score xxbos my account is blocked , help me figure out why xxbos tell me the month my card expires xxbos please make a report that my card is split xxbos how many steps have i taken today xxbos what 's my current limit on my visa xxbos is the movie xxunk</th>\n",
       "  </tr>\n",
       "  <tr>\n",
       "    <th>3</th>\n",
       "    <th>my bank of america card i do n't recognize xxbos will you let me know my bank balance xxbos i need my savings account placed under a block as soon as possible xxbos ai , where do i go to order checks for my usbank account xxbos i need my money to be xxunk xxbos i have to transfer from one account to my other one xxbos please tell me</th>\n",
       "  </tr>\n",
       "  <tr>\n",
       "    <th>4</th>\n",
       "    <th>card xxbos my credit score xxunk but i do n't know how to improve it xxbos what is my limit on my visa card xxbos what is my maurices card 's rewards balance xxbos give me the date my bill is due xxbos can you find the expiration date and tell me what it is that is on my visa credit card xxbos where are most the xxunk right now</th>\n",
       "  </tr>\n",
       "</table>\n"
      ],
      "text/plain": [
       "<IPython.core.display.HTML object>"
      ]
     },
     "metadata": {},
     "output_type": "display_data"
    }
   ],
   "source": [
    "data_lm.show_batch()"
   ]
  },
  {
   "cell_type": "code",
   "execution_count": 86,
   "metadata": {},
   "outputs": [
    {
     "data": {
      "text/plain": [
       "['xxunk',\n",
       " 'xxpad',\n",
       " 'xxbos',\n",
       " 'xxfld',\n",
       " 'xxmaj',\n",
       " 'xxup',\n",
       " 'xxrep',\n",
       " 'xxwrep',\n",
       " 'my',\n",
       " 'i']"
      ]
     },
     "execution_count": 86,
     "metadata": {},
     "output_type": "execute_result"
    }
   ],
   "source": [
    "data_lm.vocab.itos[:10]"
   ]
  },
  {
   "cell_type": "code",
   "execution_count": 87,
   "metadata": {},
   "outputs": [
    {
     "data": {
      "text/plain": [
       "Text xxbos what is one xxunk xxunk"
      ]
     },
     "execution_count": 87,
     "metadata": {},
     "output_type": "execute_result"
    }
   ],
   "source": [
    "data_lm.train_ds[0][0]"
   ]
  },
  {
   "cell_type": "code",
   "execution_count": 88,
   "metadata": {},
   "outputs": [],
   "source": [
    "learn = language_model_learner(data_lm, pretrained_model=URLs.WT103_1, drop_mult=0.3)"
   ]
  },
  {
   "cell_type": "code",
   "execution_count": 89,
   "metadata": {},
   "outputs": [],
   "source": [
    "#learn.save_encoder('LM_encoder')"
   ]
  },
  {
   "cell_type": "code",
   "execution_count": 90,
   "metadata": {},
   "outputs": [
    {
     "name": "stdout",
     "output_type": "stream",
     "text": [
      "LR Finder is complete, type {learner_name}.recorder.plot() to see the graph.\n"
     ]
    }
   ],
   "source": [
    "learn.lr_find()"
   ]
  },
  {
   "cell_type": "code",
   "execution_count": 91,
   "metadata": {},
   "outputs": [
    {
     "data": {
      "image/png": "[encoded data removed]",
      "text/plain": [
       "<Figure size 432x288 with 1 Axes>"
      ]
     },
     "metadata": {
      "needs_background": "light"
     },
     "output_type": "display_data"
    }
   ],
   "source": [
    "learn.recorder.plot(skip_end=15)"
   ]
  },
  {
   "cell_type": "code",
   "execution_count": 92,
   "metadata": {},
   "outputs": [
    {
     "data": {
      "text/html": [
       "Total time: 00:54 <p><table style='width:300px; margin-bottom:10px'>\n",
       "  <tr>\n",
       "    <th>epoch</th>\n",
       "    <th>train_loss</th>\n",
       "    <th>valid_loss</th>\n",
       "    <th>accuracy</th>\n",
       "  </tr>\n",
       "  <tr>\n",
       "    <th>1</th>\n",
       "    <th>3.921305</th>\n",
       "    <th>2.849758</th>\n",
       "    <th>0.386086</th>\n",
       "  </tr>\n",
       "</table>\n"
      ],
      "text/plain": [
       "<IPython.core.display.HTML object>"
      ]
     },
     "metadata": {},
     "output_type": "display_data"
    }
   ],
   "source": [
    "learn.fit_one_cycle(1, 1e-01, moms=(0.8,0.7))"
   ]
  },
  {
   "cell_type": "code",
   "execution_count": 93,
   "metadata": {},
   "outputs": [],
   "source": [
    "#learn.save('fit_head')"
   ]
  },
  {
   "cell_type": "code",
   "execution_count": 94,
   "metadata": {},
   "outputs": [],
   "source": [
    "#learn.load('fit_head')"
   ]
  },
  {
   "cell_type": "code",
   "execution_count": 95,
   "metadata": {},
   "outputs": [],
   "source": [
    "learn.unfreeze()"
   ]
  },
  {
   "cell_type": "code",
   "execution_count": 96,
   "metadata": {},
   "outputs": [
    {
     "data": {
      "text/html": [
       "Total time: 02:15 <p><table style='width:300px; margin-bottom:10px'>\n",
       "  <tr>\n",
       "    <th>epoch</th>\n",
       "    <th>train_loss</th>\n",
       "    <th>valid_loss</th>\n",
       "    <th>accuracy</th>\n",
       "  </tr>\n",
       "  <tr>\n",
       "    <th>1</th>\n",
       "    <th>2.767934</th>\n",
       "    <th>2.528121</th>\n",
       "    <th>0.437574</th>\n",
       "  </tr>\n",
       "</table>\n"
      ],
      "text/plain": [
       "<IPython.core.display.HTML object>"
      ]
     },
     "metadata": {},
     "output_type": "display_data"
    }
   ],
   "source": [
    "learn.fit_one_cycle(1, 1e-2, moms=(0.8,0.7))"
   ]
  },
  {
   "cell_type": "code",
   "execution_count": 97,
   "metadata": {},
   "outputs": [],
   "source": [
    "#learn.save('fine_tuned')"
   ]
  },
  {
   "cell_type": "code",
   "execution_count": 98,
   "metadata": {},
   "outputs": [],
   "source": [
    "#learn.load('fine_tuned')"
   ]
  },
  {
   "cell_type": "code",
   "execution_count": 99,
   "metadata": {},
   "outputs": [],
   "source": [
    "TEXT = \"What is the credit\"\n",
    "N_WORDS = 10\n",
    "N_SENTENCES = 1"
   ]
  },
  {
   "cell_type": "code",
   "execution_count": 100,
   "metadata": {},
   "outputs": [
    {
     "name": "stdout",
     "output_type": "stream",
     "text": [
      "What is the credit limit on my discover card xxbos how long to wait\n"
     ]
    }
   ],
   "source": [
    "print(\"\\n\".join(learn.predict(TEXT, N_WORDS, temperature=0.75) for _ in range(N_SENTENCES)))"
   ]
  },
  {
   "cell_type": "code",
   "execution_count": 101,
   "metadata": {},
   "outputs": [],
   "source": [
    "learn.save_encoder('LM_fine_tuned_encoder')"
   ]
  },
  {
   "cell_type": "markdown",
   "metadata": {},
   "source": [
    "### Classifier"
   ]
  },
  {
   "cell_type": "code",
   "execution_count": 102,
   "metadata": {},
   "outputs": [],
   "source": [
    "data_clas = (TextList.from_csv(path, 'Final_Intent_Dataset.csv', cols='text')\n",
    "                .split_from_df(col=2)\n",
    "                .label_from_df(cols=0)\n",
    "                .databunch())\n",
    "# data_clas = (TextList.from_csv(path, 'Common_train_valid_dataset.csv', cols='text')\n",
    "#                 .split_from_df(col=2)\n",
    "#                 .label_from_df(cols=0)\n",
    "#                 .databunch())"
   ]
  },
  {
   "cell_type": "code",
   "execution_count": 103,
   "metadata": {},
   "outputs": [],
   "source": [
    "data_clas = TextClasDataBunch.from_csv(path, 'Final_Intent_Dataset.csv', vocab=data_lm.train_ds.vocab, bs=32)\n",
    "#data_clas = TextClasDataBunch.from_csv(path, 'Common_train_valid_dataset.csv', vocab=data_lm.train_ds.vocab, bs=32)"
   ]
  },
  {
   "cell_type": "code",
   "execution_count": 104,
   "metadata": {},
   "outputs": [],
   "source": [
    "data_clas.save('tmp_clas')"
   ]
  },
  {
   "cell_type": "code",
   "execution_count": 105,
   "metadata": {},
   "outputs": [
    {
     "data": {
      "text/html": [
       "<table>  <col width='90%'>  <col width='10%'>  <tr>\n",
       "    <th>text</th>\n",
       "    <th>target</th>\n",
       "  </tr>\n",
       "  <tr>\n",
       "    <th>xxbos i have n't heard if my application for a credit card has been accepted or not can you check on it for me</th>\n",
       "    <th>application_status</th>\n",
       "  </tr>\n",
       "  <tr>\n",
       "    <th>xxbos i keep trying to figure out if i have enough money in my chase account to purchase a new set of xxunk</th>\n",
       "    <th>balance</th>\n",
       "  </tr>\n",
       "  <tr>\n",
       "    <th>xxbos can you tell me if my application for a credit card has been processed yet it was at chase bank</th>\n",
       "    <th>application_status</th>\n",
       "  </tr>\n",
       "  <tr>\n",
       "    <th>xxbos can you show me how to set up my paycheck to be direct deposit to my first hawaiian bank account</th>\n",
       "    <th>direct_deposit</th>\n",
       "  </tr>\n",
       "  <tr>\n",
       "    <th>xxbos can you show me how to set up direct deposit for my paycheck to my first hawaiian bank account</th>\n",
       "    <th>direct_deposit</th>\n",
       "  </tr>\n",
       "</table>\n"
      ],
      "text/plain": [
       "<IPython.core.display.HTML object>"
      ]
     },
     "metadata": {},
     "output_type": "display_data"
    }
   ],
   "source": [
    "data_clas.show_batch()"
   ]
  },
  {
   "cell_type": "code",
   "execution_count": 106,
   "metadata": {},
   "outputs": [],
   "source": [
    "learn = text_classifier_learner(data_clas, drop_mult=0.5)\n",
    "learn.load_encoder('LM_fine_tuned_encoder')\n",
    "#learn.load_encoder('LM_encoder')"
   ]
  },
  {
   "cell_type": "code",
   "execution_count": 107,
   "metadata": {},
   "outputs": [],
   "source": [
    "learn.freeze()"
   ]
  },
  {
   "cell_type": "code",
   "execution_count": 108,
   "metadata": {},
   "outputs": [
    {
     "name": "stdout",
     "output_type": "stream",
     "text": [
      "LR Finder is complete, type {learner_name}.recorder.plot() to see the graph.\n"
     ]
    }
   ],
   "source": [
    "learn.lr_find()"
   ]
  },
  {
   "cell_type": "code",
   "execution_count": 109,
   "metadata": {},
   "outputs": [
    {
     "data": {
      "image/png": "[encoded data removed]",
      "text/plain": [
       "<Figure size 432x288 with 1 Axes>"
      ]
     },
     "metadata": {
      "needs_background": "light"
     },
     "output_type": "display_data"
    }
   ],
   "source": [
    "learn.recorder.plot()"
   ]
  },
  {
   "cell_type": "code",
   "execution_count": 110,
   "metadata": {},
   "outputs": [
    {
     "data": {
      "text/html": [
       "Total time: 09:09 <p><table style='width:300px; margin-bottom:10px'>\n",
       "  <tr>\n",
       "    <th>epoch</th>\n",
       "    <th>train_loss</th>\n",
       "    <th>valid_loss</th>\n",
       "    <th>accuracy</th>\n",
       "  </tr>\n",
       "  <tr>\n",
       "    <th>1</th>\n",
       "    <th>1.390879</th>\n",
       "    <th>0.670045</th>\n",
       "    <th>0.809135</th>\n",
       "  </tr>\n",
       "  <tr>\n",
       "    <th>2</th>\n",
       "    <th>1.152377</th>\n",
       "    <th>0.539498</th>\n",
       "    <th>0.844209</th>\n",
       "  </tr>\n",
       "  <tr>\n",
       "    <th>3</th>\n",
       "    <th>0.981496</th>\n",
       "    <th>0.452856</th>\n",
       "    <th>0.863785</th>\n",
       "  </tr>\n",
       "  <tr>\n",
       "    <th>4</th>\n",
       "    <th>0.949314</th>\n",
       "    <th>0.402397</th>\n",
       "    <th>0.884176</th>\n",
       "  </tr>\n",
       "  <tr>\n",
       "    <th>5</th>\n",
       "    <th>0.829677</th>\n",
       "    <th>0.383547</th>\n",
       "    <th>0.883361</th>\n",
       "  </tr>\n",
       "  <tr>\n",
       "    <th>6</th>\n",
       "    <th>0.739083</th>\n",
       "    <th>0.310693</th>\n",
       "    <th>0.911093</th>\n",
       "  </tr>\n",
       "  <tr>\n",
       "    <th>7</th>\n",
       "    <th>0.648378</th>\n",
       "    <th>0.287902</th>\n",
       "    <th>0.911093</th>\n",
       "  </tr>\n",
       "  <tr>\n",
       "    <th>8</th>\n",
       "    <th>0.570783</th>\n",
       "    <th>0.286348</th>\n",
       "    <th>0.911909</th>\n",
       "  </tr>\n",
       "  <tr>\n",
       "    <th>9</th>\n",
       "    <th>0.522267</th>\n",
       "    <th>0.251268</th>\n",
       "    <th>0.924959</th>\n",
       "  </tr>\n",
       "  <tr>\n",
       "    <th>10</th>\n",
       "    <th>0.548484</th>\n",
       "    <th>0.253574</th>\n",
       "    <th>0.925775</th>\n",
       "  </tr>\n",
       "</table>\n"
      ],
      "text/plain": [
       "<IPython.core.display.HTML object>"
      ]
     },
     "metadata": {},
     "output_type": "display_data"
    }
   ],
   "source": [
    "learn.fit_one_cycle(10, 2e-2, moms=(0.8,0.7))"
   ]
  },
  {
   "cell_type": "code",
   "execution_count": 111,
   "metadata": {},
   "outputs": [],
   "source": [
    "#learn.save('after-first-training')"
   ]
  },
  {
   "cell_type": "code",
   "execution_count": 112,
   "metadata": {},
   "outputs": [],
   "source": [
    "#learn.load('after-first-training')"
   ]
  },
  {
   "cell_type": "code",
   "execution_count": 113,
   "metadata": {},
   "outputs": [
    {
     "data": {
      "text/html": [
       "Total time: 01:30 <p><table style='width:300px; margin-bottom:10px'>\n",
       "  <tr>\n",
       "    <th>epoch</th>\n",
       "    <th>train_loss</th>\n",
       "    <th>valid_loss</th>\n",
       "    <th>accuracy</th>\n",
       "  </tr>\n",
       "  <tr>\n",
       "    <th>1</th>\n",
       "    <th>0.527884</th>\n",
       "    <th>0.259525</th>\n",
       "    <th>0.924144</th>\n",
       "  </tr>\n",
       "</table>\n"
      ],
      "text/plain": [
       "<IPython.core.display.HTML object>"
      ]
     },
     "metadata": {},
     "output_type": "display_data"
    }
   ],
   "source": [
    "learn.freeze_to(-2)\n",
    "learn.fit_one_cycle(1, slice(1e-2/(2.6**4),1e-2), moms=(0.8,0.7))"
   ]
  },
  {
   "cell_type": "code",
   "execution_count": 114,
   "metadata": {},
   "outputs": [],
   "source": [
    "#learn.save('after-second-training')"
   ]
  },
  {
   "cell_type": "code",
   "execution_count": 115,
   "metadata": {},
   "outputs": [],
   "source": [
    "#learn.load('after-second-training')"
   ]
  },
  {
   "cell_type": "code",
   "execution_count": 116,
   "metadata": {},
   "outputs": [
    {
     "data": {
      "text/html": [
       "Total time: 03:48 <p><table style='width:300px; margin-bottom:10px'>\n",
       "  <tr>\n",
       "    <th>epoch</th>\n",
       "    <th>train_loss</th>\n",
       "    <th>valid_loss</th>\n",
       "    <th>accuracy</th>\n",
       "  </tr>\n",
       "  <tr>\n",
       "    <th>1</th>\n",
       "    <th>0.381940</th>\n",
       "    <th>0.199773</th>\n",
       "    <th>0.942088</th>\n",
       "  </tr>\n",
       "</table>\n"
      ],
      "text/plain": [
       "<IPython.core.display.HTML object>"
      ]
     },
     "metadata": {},
     "output_type": "display_data"
    }
   ],
   "source": [
    "learn.freeze_to(-3)\n",
    "learn.fit_one_cycle(1, slice(5e-3/(2.6**4),5e-3), moms=(0.8,0.7))"
   ]
  },
  {
   "cell_type": "code",
   "execution_count": 117,
   "metadata": {},
   "outputs": [],
   "source": [
    "#learn.save('after-third-training')"
   ]
  },
  {
   "cell_type": "code",
   "execution_count": 118,
   "metadata": {},
   "outputs": [],
   "source": [
    "#learn.load('after-third-training')"
   ]
  },
  {
   "cell_type": "code",
   "execution_count": 119,
   "metadata": {},
   "outputs": [
    {
     "data": {
      "text/html": [
       "Total time: 27:32 <p><table style='width:300px; margin-bottom:10px'>\n",
       "  <tr>\n",
       "    <th>epoch</th>\n",
       "    <th>train_loss</th>\n",
       "    <th>valid_loss</th>\n",
       "    <th>accuracy</th>\n",
       "  </tr>\n",
       "  <tr>\n",
       "    <th>1</th>\n",
       "    <th>0.283894</th>\n",
       "    <th>0.186200</th>\n",
       "    <th>0.946982</th>\n",
       "  </tr>\n",
       "  <tr>\n",
       "    <th>2</th>\n",
       "    <th>0.247262</th>\n",
       "    <th>0.179175</th>\n",
       "    <th>0.951876</th>\n",
       "  </tr>\n",
       "  <tr>\n",
       "    <th>3</th>\n",
       "    <th>0.221438</th>\n",
       "    <th>0.171472</th>\n",
       "    <th>0.952692</th>\n",
       "  </tr>\n",
       "  <tr>\n",
       "    <th>4</th>\n",
       "    <th>0.220010</th>\n",
       "    <th>0.166638</th>\n",
       "    <th>0.951060</th>\n",
       "  </tr>\n",
       "  <tr>\n",
       "    <th>5</th>\n",
       "    <th>0.205264</th>\n",
       "    <th>0.168112</th>\n",
       "    <th>0.949429</th>\n",
       "  </tr>\n",
       "</table>\n"
      ],
      "text/plain": [
       "<IPython.core.display.HTML object>"
      ]
     },
     "metadata": {},
     "output_type": "display_data"
    }
   ],
   "source": [
    "learn.unfreeze()\n",
    "learn.fit_one_cycle(5, slice(1e-3/(2.6**4),1e-3), moms=(0.8,0.7))"
   ]
  },
  {
   "cell_type": "code",
   "execution_count": 120,
   "metadata": {},
   "outputs": [
    {
     "data": {
      "text/plain": [
       "(Category account_blocked,\n",
       " tensor(0),\n",
       " tensor([9.9965e-01, 2.0996e-08, 1.5760e-07, 6.3219e-07, 1.6889e-08, 8.5861e-07,\n",
       "         3.0492e-04, 1.0830e-07, 7.3658e-09, 3.0605e-07, 5.3319e-06, 8.2683e-07,\n",
       "         2.7276e-07, 1.3439e-07, 1.8352e-05, 4.0424e-07, 5.4551e-08, 1.3312e-08,\n",
       "         9.6208e-07, 2.5186e-09, 1.0037e-08, 5.7745e-08, 2.1682e-06, 3.5704e-08,\n",
       "         7.9869e-08, 7.1137e-06, 8.9876e-08, 7.4738e-08, 2.5107e-07, 6.0874e-07,\n",
       "         8.3827e-07, 1.2265e-06, 1.0596e-07, 4.7598e-09, 1.7974e-08]))"
      ]
     },
     "execution_count": 120,
     "metadata": {},
     "output_type": "execute_result"
    }
   ],
   "source": [
    "learn.predict(\"why can't i access my chase account\")"
   ]
  },
  {
   "cell_type": "code",
   "execution_count": 121,
   "metadata": {},
   "outputs": [
    {
     "data": {
      "text/plain": [
       "(Category application_status,\n",
       " tensor(1),\n",
       " tensor([2.2227e-09, 9.9999e-01, 6.0509e-09, 3.4462e-11, 3.0180e-09, 7.9526e-08,\n",
       "         1.1668e-10, 7.6684e-09, 6.5754e-09, 7.8260e-09, 1.4737e-07, 5.0235e-08,\n",
       "         1.5712e-11, 3.9635e-07, 4.5984e-09, 1.1087e-10, 6.8539e-09, 5.2181e-09,\n",
       "         2.5272e-11, 8.9211e-08, 1.9579e-08, 3.1315e-06, 4.7772e-07, 2.9194e-08,\n",
       "         1.2882e-07, 1.1361e-10, 6.5274e-08, 5.2173e-07, 4.1696e-11, 4.3359e-09,\n",
       "         2.3895e-08, 5.0179e-10, 7.0295e-11, 9.4443e-09, 5.3337e-11]))"
      ]
     },
     "execution_count": 121,
     "metadata": {},
     "output_type": "execute_result"
    }
   ],
   "source": [
    "learn.predict(\"has my mastercard application gone through the process\")"
   ]
  },
  {
   "cell_type": "code",
   "execution_count": 122,
   "metadata": {},
   "outputs": [
    {
     "data": {
      "text/plain": [
       "(Category apr,\n",
       " tensor(2),\n",
       " tensor([1.6404e-07, 3.8369e-08, 9.9996e-01, 2.8376e-07, 3.6506e-06, 2.9087e-09,\n",
       "         6.4801e-09, 4.8064e-06, 1.0540e-09, 3.2797e-08, 1.9689e-08, 3.9109e-10,\n",
       "         4.8931e-08, 8.2509e-07, 3.2299e-09, 7.5013e-09, 1.0959e-08, 6.5414e-10,\n",
       "         2.2125e-05, 1.3589e-07, 9.2098e-08, 2.9777e-09, 1.9280e-07, 2.3153e-10,\n",
       "         1.2938e-10, 9.2366e-08, 5.5790e-08, 1.7714e-06, 1.1688e-07, 7.8948e-09,\n",
       "         1.1195e-06, 5.9264e-11, 5.0590e-06, 2.7253e-07, 2.6850e-10]))"
      ]
     },
     "execution_count": 122,
     "metadata": {},
     "output_type": "execute_result"
    }
   ],
   "source": [
    "learn.predict(\"what's the apr on my capital one venture card\")"
   ]
  },
  {
   "cell_type": "code",
   "execution_count": 123,
   "metadata": {},
   "outputs": [
    {
     "data": {
      "text/plain": [
       "(Category insurance_change,\n",
       " tensor(17),\n",
       " tensor([3.0897e-09, 2.5274e-08, 1.0128e-09, 1.6151e-08, 2.6375e-09, 4.5407e-07,\n",
       "         4.7842e-10, 5.1918e-11, 8.5672e-08, 4.1517e-09, 1.1325e-10, 1.4530e-06,\n",
       "         3.5163e-08, 1.0896e-08, 4.9005e-10, 2.2792e-06, 2.3058e-04, 9.9976e-01,\n",
       "         2.2431e-09, 4.8532e-09, 1.5481e-08, 4.0420e-06, 2.3081e-06, 1.7712e-08,\n",
       "         2.6729e-08, 2.4148e-08, 2.3113e-07, 7.7182e-08, 4.5514e-09, 3.5390e-09,\n",
       "         2.0075e-07, 5.6154e-07, 9.3562e-09, 8.4639e-09, 5.6916e-08]))"
      ]
     },
     "execution_count": 123,
     "metadata": {},
     "output_type": "execute_result"
    }
   ],
   "source": [
    "learn.predict(\"what if i want to switch insurance plans\")"
   ]
  },
  {
   "cell_type": "code",
   "execution_count": 124,
   "metadata": {},
   "outputs": [
    {
     "data": {
      "text/plain": [
       "(Category new_card,\n",
       " tensor(21),\n",
       " tensor([1.8886e-12, 1.2297e-06, 9.4334e-09, 5.1130e-11, 2.4263e-09, 3.2216e-09,\n",
       "         6.7883e-11, 3.2340e-08, 1.3081e-08, 2.3967e-08, 3.6625e-09, 5.9342e-09,\n",
       "         6.6293e-11, 1.5865e-08, 2.0676e-12, 6.9584e-11, 3.2691e-09, 3.3527e-07,\n",
       "         2.1180e-10, 6.4167e-10, 3.7850e-11, 9.9998e-01, 1.8627e-08, 8.9913e-09,\n",
       "         3.5626e-09, 5.6556e-10, 1.2959e-05, 7.3596e-07, 2.4233e-11, 1.0825e-07,\n",
       "         3.0232e-07, 2.7887e-10, 1.4578e-10, 8.1969e-11, 1.7901e-13]))"
      ]
     },
     "execution_count": 124,
     "metadata": {},
     "output_type": "execute_result"
    }
   ],
   "source": [
    "learn.predict(\"how do i apply for a visa card\")"
   ]
  },
  {
   "cell_type": "code",
   "execution_count": 125,
   "metadata": {},
   "outputs": [
    {
     "data": {
      "text/plain": [
       "(Category rewards_balance,\n",
       " tensor(30),\n",
       " tensor([1.6648e-08, 1.0155e-07, 5.6182e-06, 2.6712e-06, 4.6556e-08, 6.6862e-09,\n",
       "         8.1271e-09, 1.3460e-05, 5.3256e-09, 6.2711e-08, 2.1815e-10, 3.6480e-09,\n",
       "         8.8956e-09, 3.3788e-09, 1.1055e-10, 8.9809e-10, 2.2313e-05, 6.2490e-09,\n",
       "         2.9108e-08, 6.3940e-09, 9.9772e-09, 8.1854e-08, 8.7511e-08, 8.4728e-09,\n",
       "         2.5124e-11, 1.8945e-09, 2.5379e-04, 3.0694e-09, 2.7150e-08, 6.8572e-09,\n",
       "         9.9970e-01, 2.5142e-11, 9.7865e-08, 3.1401e-06, 2.9773e-12]))"
      ]
     },
     "execution_count": 125,
     "metadata": {},
     "output_type": "execute_result"
    }
   ],
   "source": [
    "learn.predict(\"what points have i earned on my visa\")"
   ]
  },
  {
   "cell_type": "code",
   "execution_count": 126,
   "metadata": {},
   "outputs": [
    {
     "data": {
      "text/plain": [
       "(Category improve_credit_score,\n",
       " tensor(15),\n",
       " tensor([9.0900e-06, 1.2870e-05, 3.7589e-05, 8.5868e-09, 1.3025e-08, 4.4483e-07,\n",
       "         1.1176e-05, 5.4165e-06, 3.3530e-05, 1.2027e-01, 3.4261e-05, 1.4203e-07,\n",
       "         5.3181e-09, 1.9691e-05, 3.5259e-06, 8.7954e-01, 5.5960e-08, 4.7964e-08,\n",
       "         2.2048e-08, 5.9740e-08, 2.0099e-08, 6.4138e-06, 3.6119e-06, 2.4421e-09,\n",
       "         6.5102e-07, 3.9413e-08, 3.4581e-06, 6.8045e-06, 7.8230e-08, 1.1390e-06,\n",
       "         2.8945e-08, 9.3960e-07, 4.8803e-08, 9.9317e-09, 2.2226e-08]))"
      ]
     },
     "execution_count": 126,
     "metadata": {},
     "output_type": "execute_result"
    }
   ],
   "source": [
    "learn.predict(\"if i lose my job will my credit score go down\")"
   ]
  },
  {
   "cell_type": "code",
   "execution_count": 127,
   "metadata": {},
   "outputs": [
    {
     "data": {
      "text/plain": [
       "(Category transfer,\n",
       " tensor(34),\n",
       " tensor([1.2109e-04, 3.5730e-07, 7.5203e-07, 6.1817e-05, 2.8754e-06, 8.0990e-06,\n",
       "         4.3117e-07, 1.3734e-06, 4.1063e-05, 7.9199e-07, 2.3341e-05, 3.8721e-05,\n",
       "         8.2356e-05, 6.8483e-06, 1.6316e-03, 2.6475e-05, 8.6284e-08, 1.0295e-05,\n",
       "         3.7702e-05, 8.4982e-06, 6.8868e-05, 1.5512e-06, 2.3089e-03, 3.7968e-06,\n",
       "         4.4524e-03, 1.4490e-04, 1.2845e-06, 1.1937e-04, 6.4616e-05, 9.9247e-07,\n",
       "         8.5981e-08, 7.5211e-05, 7.1797e-05, 7.6760e-06, 9.9057e-01]))"
      ]
     },
     "execution_count": 127,
     "metadata": {},
     "output_type": "execute_result"
    }
   ],
   "source": [
    "learn.predict(\"can i initiate a one-time transfer from my savings account to my money market account\")"
   ]
  },
  {
   "cell_type": "code",
   "execution_count": 128,
   "metadata": {},
   "outputs": [
    {
     "data": {
      "text/plain": [
       "(Category transactions,\n",
       " tensor(33),\n",
       " tensor([1.4414e-07, 1.4613e-04, 1.7139e-05, 4.0340e-05, 6.7212e-04, 3.2288e-05,\n",
       "         9.7457e-07, 5.7747e-05, 1.9016e-06, 2.7743e-07, 5.0399e-06, 8.1410e-09,\n",
       "         1.8709e-04, 2.9958e-04, 2.5167e-07, 1.4905e-08, 3.1311e-05, 3.0289e-05,\n",
       "         1.1484e-06, 5.3052e-05, 9.5118e-06, 5.9814e-05, 3.5391e-03, 3.6996e-06,\n",
       "         3.9475e-07, 6.6525e-07, 1.0177e-04, 5.9099e-06, 7.2743e-05, 9.8846e-06,\n",
       "         1.8564e-04, 2.2930e-07, 3.2144e-06, 9.9443e-01, 3.7024e-07]))"
      ]
     },
     "execution_count": 128,
     "metadata": {},
     "output_type": "execute_result"
    }
   ],
   "source": [
    "learn.predict(\"i need to see all visa purchases for march\")"
   ]
  },
  {
   "cell_type": "code",
   "execution_count": 129,
   "metadata": {},
   "outputs": [],
   "source": [
    "learn.export('/notebooks/storage/ULMFiT_classifier_model_cpu.pkl')"
   ]
  },
  {
   "cell_type": "code",
   "execution_count": 130,
   "metadata": {},
   "outputs": [],
   "source": [
    "my_path = learn.path"
   ]
  },
  {
   "cell_type": "code",
   "execution_count": 131,
   "metadata": {},
   "outputs": [],
   "source": [
    "my_learn = load_learner(my_path, 'ULMFiT_classifier_model_cpu.pkl')"
   ]
  },
  {
   "cell_type": "code",
   "execution_count": 132,
   "metadata": {},
   "outputs": [
    {
     "data": {
      "text/plain": [
       "(Category report_lost_card,\n",
       " tensor(29),\n",
       " tensor([1.0567e-11, 1.6302e-12, 1.0909e-09, 1.4714e-13, 6.4940e-10, 3.5279e-13,\n",
       "         6.3915e-10, 6.9911e-13, 5.0497e-15, 8.8139e-12, 2.9844e-04, 1.1522e-12,\n",
       "         3.9803e-11, 1.1619e-10, 9.0613e-13, 2.6374e-12, 2.2994e-11, 1.3405e-11,\n",
       "         7.2643e-14, 4.1913e-12, 9.0196e-15, 1.0094e-09, 1.1850e-10, 2.9964e-12,\n",
       "         9.4540e-14, 1.0937e-13, 1.7326e-09, 5.0605e-08, 1.7532e-09, 9.9970e-01,\n",
       "         1.4656e-10, 5.0472e-11, 5.9180e-10, 8.2681e-14, 4.1952e-14]))"
      ]
     },
     "execution_count": 132,
     "metadata": {},
     "output_type": "execute_result"
    }
   ],
   "source": [
    "my_learn.predict(\"how do i report the card as lost\")"
   ]
  },
  {
   "cell_type": "code",
   "execution_count": 133,
   "metadata": {},
   "outputs": [
    {
     "data": {
      "text/plain": [
       "(Category oos,\n",
       " tensor(22),\n",
       " tensor([1.2322e-04, 8.1057e-05, 2.9401e-05, 3.5216e-05, 3.2897e-05, 1.5496e-05,\n",
       "         9.0543e-07, 3.9068e-06, 9.3957e-07, 5.1534e-06, 1.5997e-04, 3.9339e-05,\n",
       "         4.5836e-05, 4.2493e-06, 2.4612e-05, 1.3452e-05, 2.0038e-04, 5.5605e-04,\n",
       "         5.0401e-06, 1.4824e-06, 5.1975e-06, 2.6547e-03, 9.9493e-01, 1.1990e-05,\n",
       "         2.9983e-06, 1.4043e-05, 2.1502e-06, 8.0564e-04, 1.2022e-05, 9.4100e-05,\n",
       "         7.3882e-06, 1.4799e-05, 6.0316e-05, 3.6682e-06, 2.3886e-06]))"
      ]
     },
     "execution_count": 133,
     "metadata": {},
     "output_type": "execute_result"
    }
   ],
   "source": [
    "my_learn.predict(\"can you explain a good risk strategy to me\")"
   ]
  },
  {
   "cell_type": "code",
   "execution_count": 134,
   "metadata": {},
   "outputs": [
    {
     "data": {
      "text/plain": [
       "(Category bill_due,\n",
       " tensor(5),\n",
       " tensor([2.4927e-06, 2.5346e-04, 1.7664e-05, 5.7111e-06, 3.4399e-01, 5.7473e-01,\n",
       "         8.5669e-07, 2.5718e-04, 2.1085e-07, 1.8072e-05, 5.5624e-06, 6.9069e-06,\n",
       "         1.8323e-05, 1.0799e-02, 9.6312e-09, 2.0982e-07, 6.7180e-02, 5.4859e-04,\n",
       "         6.1141e-06, 1.6727e-05, 3.4765e-04, 3.0149e-06, 8.4498e-04, 1.1766e-06,\n",
       "         2.3293e-05, 1.3437e-06, 3.1306e-06, 4.4208e-04, 1.6579e-07, 1.9839e-05,\n",
       "         2.5088e-04, 8.9328e-07, 1.8723e-04, 1.8495e-05, 5.9051e-08]))"
      ]
     },
     "execution_count": 134,
     "metadata": {},
     "output_type": "execute_result"
    }
   ],
   "source": [
    "my_learn.predict(\"whens my insurance due and how much does it cost\")"
   ]
  },
  {
   "cell_type": "code",
   "execution_count": 135,
   "metadata": {},
   "outputs": [
    {
     "data": {
      "text/plain": [
       "(Category credit_limit,\n",
       " tensor(7),\n",
       " tensor([3.1005e-08, 5.3919e-05, 1.3282e-04, 2.6086e-07, 4.5753e-07, 6.9458e-07,\n",
       "         1.6472e-07, 9.9946e-01, 8.8011e-06, 5.1975e-05, 6.3649e-08, 8.6621e-10,\n",
       "         8.4647e-09, 2.3399e-04, 6.0443e-10, 1.8211e-08, 2.6224e-07, 3.6392e-09,\n",
       "         1.4336e-06, 3.1550e-07, 1.2793e-07, 5.8523e-07, 3.2221e-07, 6.6346e-09,\n",
       "         1.2596e-09, 4.5927e-06, 5.2277e-07, 2.5699e-06, 4.2350e-08, 2.2856e-08,\n",
       "         4.4755e-05, 1.1975e-09, 1.2004e-07, 7.9720e-07, 6.9407e-10]))"
      ]
     },
     "execution_count": 135,
     "metadata": {},
     "output_type": "execute_result"
    }
   ],
   "source": [
    "my_learn.predict(\"tell me my hsbc card credit limit\")"
   ]
  },
  {
   "cell_type": "code",
   "execution_count": 136,
   "metadata": {},
   "outputs": [
    {
     "data": {
      "text/plain": [
       "(Category bill_due,\n",
       " tensor(5),\n",
       " tensor([1.5173e-09, 2.5697e-06, 1.3616e-09, 3.4509e-11, 1.0783e-04, 9.9946e-01,\n",
       "         9.1663e-10, 4.3880e-09, 8.7610e-11, 1.2039e-09, 6.0481e-08, 1.2041e-08,\n",
       "         2.6636e-10, 1.7313e-04, 4.0710e-10, 3.7739e-09, 2.5236e-09, 1.9095e-10,\n",
       "         7.9920e-09, 2.9114e-08, 7.8585e-06, 1.4280e-08, 1.5888e-06, 4.7067e-09,\n",
       "         1.5398e-05, 4.6193e-11, 1.4132e-10, 2.2808e-04, 1.4171e-10, 1.0133e-08,\n",
       "         1.8574e-09, 5.2538e-08, 2.2611e-07, 2.0485e-10, 4.5575e-10]))"
      ]
     },
     "execution_count": 136,
     "metadata": {},
     "output_type": "execute_result"
    }
   ],
   "source": [
    "my_learn.predict(\"when does my gas bill need paid by\")"
   ]
  },
  {
   "cell_type": "code",
   "execution_count": 137,
   "metadata": {},
   "outputs": [
    {
     "data": {
      "text/plain": [
       "(Category damaged_card,\n",
       " tensor(10),\n",
       " tensor([4.5252e-06, 6.9511e-06, 7.5980e-05, 4.5262e-06, 5.8586e-05, 5.2645e-06,\n",
       "         3.2051e-05, 1.9756e-05, 9.2739e-07, 3.8131e-05, 6.4279e-01, 1.0998e-07,\n",
       "         5.4533e-07, 3.2874e-05, 5.9468e-05, 2.0437e-06, 4.0047e-06, 2.0222e-05,\n",
       "         1.1851e-06, 2.2686e-05, 5.1655e-06, 7.1859e-05, 3.6442e-04, 2.7315e-07,\n",
       "         1.3272e-04, 1.7789e-06, 2.5774e-06, 1.0164e-04, 9.6582e-02, 2.5894e-01,\n",
       "         1.7494e-06, 4.6711e-05, 9.3158e-06, 5.5593e-04, 4.6846e-06]))"
      ]
     },
     "execution_count": 137,
     "metadata": {},
     "output_type": "execute_result"
    }
   ],
   "source": [
    "my_learn.predict(\"i accidentally deactivated the magnetic stripe on my visa debit card and i need to report it\")"
   ]
  },
  {
   "cell_type": "code",
   "execution_count": 138,
   "metadata": {},
   "outputs": [
    {
     "data": {
      "text/plain": [
       "(Category exchange_rate,\n",
       " tensor(12),\n",
       " tensor([1.7207e-06, 9.7406e-09, 1.1441e-07, 7.2352e-04, 3.6836e-05, 2.6673e-06,\n",
       "         2.8063e-08, 3.4215e-07, 2.8500e-06, 3.2473e-07, 2.5707e-06, 1.8319e-05,\n",
       "         7.8679e-01, 1.6246e-06, 1.0535e-06, 5.0090e-06, 1.4967e-07, 9.1064e-07,\n",
       "         4.8609e-06, 5.8654e-05, 4.9623e-06, 4.4123e-06, 1.0744e-02, 3.7898e-05,\n",
       "         5.4956e-05, 9.5949e-08, 2.9656e-07, 5.3022e-06, 1.0016e-06, 5.2878e-07,\n",
       "         7.6710e-08, 6.3630e-06, 3.3363e-06, 3.7484e-06, 2.0148e-01]))"
      ]
     },
     "execution_count": 138,
     "metadata": {},
     "output_type": "execute_result"
    }
   ],
   "source": [
    "my_learn.predict(\"is $30 usd more or less in canada\")"
   ]
  },
  {
   "cell_type": "code",
   "execution_count": 139,
   "metadata": {},
   "outputs": [
    {
     "data": {
      "text/plain": [
       "(Category order_checks,\n",
       " tensor(23),\n",
       " tensor([7.5022e-11, 1.3173e-11, 1.5273e-13, 9.0047e-09, 9.2763e-09, 1.5183e-10,\n",
       "         9.7425e-14, 6.7122e-13, 7.8024e-12, 2.7576e-12, 8.7909e-12, 2.5186e-09,\n",
       "         7.4374e-12, 3.5647e-12, 1.8006e-10, 2.8852e-12, 3.0475e-10, 5.8633e-10,\n",
       "         1.3983e-10, 9.0026e-13, 6.5028e-11, 1.0618e-10, 2.1887e-09, 1.0000e+00,\n",
       "         6.0985e-10, 1.9136e-10, 1.8814e-08, 1.1876e-10, 1.7255e-11, 1.1879e-10,\n",
       "         7.0902e-09, 1.2912e-10, 4.8740e-11, 4.9676e-10, 3.8813e-10]))"
      ]
     },
     "execution_count": 139,
     "metadata": {},
     "output_type": "execute_result"
    }
   ],
   "source": [
    "my_learn.predict(\"how do i order more checkbooks for my well's fargo account\")"
   ]
  },
  {
   "cell_type": "code",
   "execution_count": 140,
   "metadata": {},
   "outputs": [
    {
     "data": {
      "text/plain": [
       "(Category pay_bill,\n",
       " tensor(24),\n",
       " tensor([5.3514e-05, 1.2056e-04, 1.2065e-03, 6.1030e-06, 1.5066e-01, 1.6153e-01,\n",
       "         2.6522e-04, 3.9578e-04, 1.2854e-04, 5.0694e-04, 4.6351e-03, 6.7741e-04,\n",
       "         3.0253e-04, 2.3997e-04, 7.4624e-05, 4.3417e-04, 4.9638e-05, 5.5549e-05,\n",
       "         3.7219e-04, 1.2031e-04, 6.5473e-02, 4.6059e-04, 5.8890e-02, 1.6046e-05,\n",
       "         5.4950e-01, 6.4628e-05, 5.6422e-05, 1.1194e-03, 4.1267e-04, 5.7565e-05,\n",
       "         2.0677e-06, 6.3028e-05, 1.5454e-03, 2.1812e-04, 2.8239e-04]))"
      ]
     },
     "execution_count": 140,
     "metadata": {},
     "output_type": "execute_result"
    }
   ],
   "source": [
    "my_learn.predict(\"Whose name is on the bill\")"
   ]
  },
  {
   "cell_type": "code",
   "execution_count": 141,
   "metadata": {},
   "outputs": [
    {
     "data": {
      "text/plain": [
       "(Category new_card,\n",
       " tensor(21),\n",
       " tensor([5.1353e-06, 5.7881e-04, 2.1906e-02, 1.8767e-07, 1.9456e-05, 2.4539e-04,\n",
       "         1.8175e-03, 2.2384e-03, 1.3306e-03, 5.3529e-03, 1.1741e-02, 4.1143e-06,\n",
       "         1.1812e-05, 2.3942e-02, 4.6842e-06, 4.1869e-02, 7.3792e-06, 1.3652e-05,\n",
       "         6.2708e-06, 9.2416e-06, 1.0749e-05, 5.8271e-01, 1.5647e-02, 7.8782e-07,\n",
       "         3.0167e-05, 3.2221e-06, 1.7606e-03, 2.8770e-01, 8.1012e-06, 9.2948e-04,\n",
       "         1.0143e-05, 3.8146e-05, 4.7949e-05, 3.4337e-06, 4.3814e-06]))"
      ]
     },
     "execution_count": 141,
     "metadata": {},
     "output_type": "execute_result"
    }
   ],
   "source": [
    "my_learn.predict(\"What is the procedure to surrender a credit card\")"
   ]
  },
  {
   "cell_type": "code",
   "execution_count": 142,
   "metadata": {},
   "outputs": [
    {
     "data": {
      "text/plain": [
       "(Category pin_change,\n",
       " tensor(25),\n",
       " tensor([9.3696e-10, 4.4089e-10, 1.1906e-07, 1.0513e-09, 7.5399e-10, 1.8588e-08,\n",
       "         1.3580e-09, 1.6869e-06, 3.1342e-09, 1.1745e-08, 9.2503e-11, 3.5429e-10,\n",
       "         2.9220e-10, 6.9045e-09, 2.1539e-10, 2.5726e-10, 9.7975e-10, 4.2183e-10,\n",
       "         4.1141e-08, 2.2331e-11, 2.4279e-09, 1.9646e-10, 1.5790e-07, 2.2868e-09,\n",
       "         1.1961e-10, 1.0000e+00, 1.0694e-11, 1.3704e-07, 3.8892e-12, 2.4729e-11,\n",
       "         2.3623e-10, 2.5262e-09, 6.1383e-08, 1.8559e-11, 1.7560e-10]))"
      ]
     },
     "execution_count": 142,
     "metadata": {},
     "output_type": "execute_result"
    }
   ],
   "source": [
    "my_learn.predict(\"What is the pin number\")"
   ]
  },
  {
   "cell_type": "code",
   "execution_count": 143,
   "metadata": {},
   "outputs": [
    {
     "data": {
      "text/plain": [
       "(Category oos,\n",
       " tensor(22),\n",
       " tensor([2.1820e-04, 1.2939e-02, 9.3434e-04, 4.3760e-05, 9.4542e-05, 1.3509e-04,\n",
       "         2.8874e-03, 6.4963e-04, 5.2115e-04, 1.3963e-04, 2.5570e-04, 1.6481e-03,\n",
       "         3.3483e-04, 3.5932e-02, 9.0879e-06, 1.4007e-03, 5.0264e-04, 4.5053e-03,\n",
       "         5.0829e-05, 4.1576e-03, 2.9396e-05, 7.3779e-02, 6.2534e-01, 3.1728e-04,\n",
       "         4.2593e-06, 1.2551e-04, 2.7631e-04, 2.3171e-01, 1.7712e-05, 3.3066e-04,\n",
       "         6.8153e-05, 2.7893e-04, 2.8420e-04, 5.6294e-05, 2.0786e-05]))"
      ]
     },
     "execution_count": 143,
     "metadata": {},
     "output_type": "execute_result"
    }
   ],
   "source": [
    "my_learn.predict(\"What is the procedure for printing business card\")"
   ]
  },
  {
   "cell_type": "code",
   "execution_count": 144,
   "metadata": {},
   "outputs": [
    {
     "data": {
      "text/plain": [
       "(Category interest_rate,\n",
       " tensor(18),\n",
       " tensor([2.3138e-09, 1.8427e-11, 8.8533e-08, 1.5673e-09, 2.3137e-08, 9.1236e-09,\n",
       "         1.1858e-08, 1.0320e-09, 2.7603e-10, 8.4754e-09, 8.2763e-10, 1.5430e-08,\n",
       "         2.5895e-06, 4.4329e-09, 5.6261e-10, 3.2874e-09, 1.1079e-08, 5.5533e-08,\n",
       "         9.9995e-01, 1.2887e-07, 7.3120e-10, 1.5312e-07, 4.6021e-05, 1.2435e-08,\n",
       "         7.8512e-09, 3.1147e-09, 3.6325e-08, 5.8478e-07, 3.2451e-09, 2.9543e-11,\n",
       "         7.3598e-11, 7.8675e-09, 5.2954e-07, 5.9939e-09, 1.1954e-08]))"
      ]
     },
     "execution_count": 144,
     "metadata": {},
     "output_type": "execute_result"
    }
   ],
   "source": [
    "my_learn.predict(\"Does banking interest you\")"
   ]
  },
  {
   "cell_type": "code",
   "execution_count": 145,
   "metadata": {},
   "outputs": [
    {
     "data": {
      "text/html": [
       "<div>\n",
       "<style scoped>\n",
       "    .dataframe tbody tr th:only-of-type {\n",
       "        vertical-align: middle;\n",
       "    }\n",
       "\n",
       "    .dataframe tbody tr th {\n",
       "        vertical-align: top;\n",
       "    }\n",
       "\n",
       "    .dataframe thead th {\n",
       "        text-align: right;\n",
       "    }\n",
       "</style>\n",
       "<table border=\"1\" class=\"dataframe\">\n",
       "  <thead>\n",
       "    <tr style=\"text-align: right;\">\n",
       "      <th></th>\n",
       "      <th>label</th>\n",
       "      <th>text</th>\n",
       "    </tr>\n",
       "  </thead>\n",
       "  <tbody>\n",
       "    <tr>\n",
       "      <th>0</th>\n",
       "      <td>account_blocked</td>\n",
       "      <td>can you help me unblock my account</td>\n",
       "    </tr>\n",
       "    <tr>\n",
       "      <th>1</th>\n",
       "      <td>account_blocked</td>\n",
       "      <td>can you check what the problem with my account...</td>\n",
       "    </tr>\n",
       "    <tr>\n",
       "      <th>2</th>\n",
       "      <td>account_blocked</td>\n",
       "      <td>is there a reason you put a hold on my chase a...</td>\n",
       "    </tr>\n",
       "    <tr>\n",
       "      <th>3</th>\n",
       "      <td>account_blocked</td>\n",
       "      <td>why can't i access my chase account</td>\n",
       "    </tr>\n",
       "    <tr>\n",
       "      <th>4</th>\n",
       "      <td>account_blocked</td>\n",
       "      <td>how come my chase account has a hold on it</td>\n",
       "    </tr>\n",
       "  </tbody>\n",
       "</table>\n",
       "</div>"
      ],
      "text/plain": [
       "             label                                               text\n",
       "0  account_blocked                 can you help me unblock my account\n",
       "1  account_blocked  can you check what the problem with my account...\n",
       "2  account_blocked  is there a reason you put a hold on my chase a...\n",
       "3  account_blocked                why can't i access my chase account\n",
       "4  account_blocked         how come my chase account has a hold on it"
      ]
     },
     "execution_count": 145,
     "metadata": {},
     "output_type": "execute_result"
    }
   ],
   "source": [
    "df_test = pd.read_csv('./Test_Intent_Dataset.csv')\n",
    "#df_test = pd.read_csv('./Common_test_dataset.csv')\n",
    "df_test.head()"
   ]
  },
  {
   "cell_type": "code",
   "execution_count": 146,
   "metadata": {},
   "outputs": [
    {
     "name": "stdout",
     "output_type": "stream",
     "text": [
      "In Scope Accuracy:  91.76\n"
     ]
    }
   ],
   "source": [
    "my_file_1 = open('ulmfit_predictions_1.json', 'w')\n",
    "total_preds = 0\n",
    "correct_preds = 0\n",
    "# print(\"Query,True_label,Prediction,Score\", file = my_file_1)\n",
    "print(\"predict_response = [\", file = my_file_1)\n",
    "for index, row in df_test.iterrows():\n",
    "    pred = my_learn.predict(row['text'])\n",
    "    prob = torch.max(pred[2])\n",
    "    total_preds = total_preds + 1\n",
    "    prediction = pred[0].obj\n",
    "    if row['label'] == prediction:\n",
    "        correct_preds = correct_preds + 1\n",
    "#     print(row['text'],\",\",row['label'],\",\",pred[0],\",\",prob.item(), file = my_file_1)\n",
    "    print(\"{\\\"Query\\\":\\\"\",row['text'],\"\\\",\\\"True_Label\\\":\\\"\",row['label'],\"\\\",\\\"Predicted_Intent\\\":\\\"\",pred[0],\"\\\",\\\"Score\\\":\",prob.item(),\"},\", file = my_file_1)\n",
    "print(\"]\", file = my_file_1)\n",
    "accuracy = round(((correct_preds/total_preds) * 100), 2)\n",
    "print(\"In Scope Accuracy: \", accuracy)\n",
    "my_file_1.close()"
   ]
  },
  {
   "cell_type": "code",
   "execution_count": 147,
   "metadata": {},
   "outputs": [
    {
     "data": {
      "text/html": [
       "<div>\n",
       "<style scoped>\n",
       "    .dataframe tbody tr th:only-of-type {\n",
       "        vertical-align: middle;\n",
       "    }\n",
       "\n",
       "    .dataframe tbody tr th {\n",
       "        vertical-align: top;\n",
       "    }\n",
       "\n",
       "    .dataframe thead th {\n",
       "        text-align: right;\n",
       "    }\n",
       "</style>\n",
       "<table border=\"1\" class=\"dataframe\">\n",
       "  <thead>\n",
       "    <tr style=\"text-align: right;\">\n",
       "      <th></th>\n",
       "      <th>label</th>\n",
       "      <th>text</th>\n",
       "    </tr>\n",
       "  </thead>\n",
       "  <tbody>\n",
       "    <tr>\n",
       "      <th>0</th>\n",
       "      <td>oos</td>\n",
       "      <td>What can you tell me about the bill</td>\n",
       "    </tr>\n",
       "    <tr>\n",
       "      <th>1</th>\n",
       "      <td>oos</td>\n",
       "      <td>Where is my electric bill</td>\n",
       "    </tr>\n",
       "    <tr>\n",
       "      <th>2</th>\n",
       "      <td>oos</td>\n",
       "      <td>About changing the address on a bill</td>\n",
       "    </tr>\n",
       "    <tr>\n",
       "      <th>3</th>\n",
       "      <td>oos</td>\n",
       "      <td>Who will be sending the bill to me</td>\n",
       "    </tr>\n",
       "    <tr>\n",
       "      <th>4</th>\n",
       "      <td>oos</td>\n",
       "      <td>Was it a gas or electric bill</td>\n",
       "    </tr>\n",
       "  </tbody>\n",
       "</table>\n",
       "</div>"
      ],
      "text/plain": [
       "  label                                  text\n",
       "0   oos   What can you tell me about the bill\n",
       "1   oos             Where is my electric bill\n",
       "2   oos  About changing the address on a bill\n",
       "3   oos    Who will be sending the bill to me\n",
       "4   oos         Was it a gas or electric bill"
      ]
     },
     "execution_count": 147,
     "metadata": {},
     "output_type": "execute_result"
    }
   ],
   "source": [
    "df_test_oos = pd.read_csv('./Test_OOS.csv')\n",
    "df_test_oos.head()"
   ]
  },
  {
   "cell_type": "code",
   "execution_count": 148,
   "metadata": {},
   "outputs": [
    {
     "name": "stdout",
     "output_type": "stream",
     "text": [
      "Out Of Scope Accuracy:  33.33\n"
     ]
    }
   ],
   "source": [
    "my_file_2 = open('ulmfit_oos_predictions_1.json', 'w')\n",
    "total_preds = 0\n",
    "correct_preds = 0\n",
    "print(\"predict_response = [\", file = my_file_2)\n",
    "for index, row in df_test_oos.iterrows():\n",
    "    pred = my_learn.predict(row['text'])\n",
    "    prob = torch.max(pred[2])\n",
    "    total_preds = total_preds + 1\n",
    "    prediction = pred[0].obj\n",
    "    if row['label'] == prediction:\n",
    "        correct_preds = correct_preds + 1\n",
    "    print(\"{\\\"Query\\\":\\\"\",row['text'],\"\\\",\\\"True_Label\\\":\\\"\",row['label'],\"\\\",\\\"Predicted_Intent\\\":\\\"\",pred[0],\"\\\",\\\"Score\\\":\",prob.item(),\"},\", file = my_file_2)\n",
    "print(\"]\", file = my_file_2)\n",
    "accuracy = round(((correct_preds/total_preds) * 100), 2)\n",
    "print(\"Out Of Scope Accuracy: \", accuracy)\n",
    "my_file_2.close()"
   ]
  },
  {
   "cell_type": "code",
   "execution_count": null,
   "metadata": {},
   "outputs": [],
   "source": []
  }
 ],
 "metadata": {
  "kernelspec": {
   "display_name": "Python 3",
   "language": "python",
   "name": "python3"
  },
  "language_info": {
   "codemirror_mode": {
    "name": "ipython",
    "version": 3
   },
   "file_extension": ".py",
   "mimetype": "text/x-python",
   "name": "python",
   "nbconvert_exporter": "python",
   "pygments_lexer": "ipython3",
   "version": "3.6.7"
  }
 },
 "nbformat": 4,
 "nbformat_minor": 2
}
