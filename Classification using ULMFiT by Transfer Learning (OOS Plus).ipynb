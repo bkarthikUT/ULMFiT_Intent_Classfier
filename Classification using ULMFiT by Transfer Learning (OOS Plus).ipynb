{
 "cells": [
  {
   "cell_type": "code",
   "execution_count": 68,
   "metadata": {},
   "outputs": [],
   "source": [
    "%reload_ext autoreload\n",
    "%autoreload 2\n",
    "%matplotlib inline"
   ]
  },
  {
   "cell_type": "code",
   "execution_count": 69,
   "metadata": {},
   "outputs": [],
   "source": [
    "from fastai.text import *\n",
    "import torch"
   ]
  },
  {
   "cell_type": "code",
   "execution_count": 70,
   "metadata": {},
   "outputs": [
    {
     "data": {
      "text/html": [
       "<div>\n",
       "<style scoped>\n",
       "    .dataframe tbody tr th:only-of-type {\n",
       "        vertical-align: middle;\n",
       "    }\n",
       "\n",
       "    .dataframe tbody tr th {\n",
       "        vertical-align: top;\n",
       "    }\n",
       "\n",
       "    .dataframe thead th {\n",
       "        text-align: right;\n",
       "    }\n",
       "</style>\n",
       "<table border=\"1\" class=\"dataframe\">\n",
       "  <thead>\n",
       "    <tr style=\"text-align: right;\">\n",
       "      <th></th>\n",
       "      <th>label</th>\n",
       "      <th>text</th>\n",
       "      <th>is_valid</th>\n",
       "    </tr>\n",
       "  </thead>\n",
       "  <tbody>\n",
       "    <tr>\n",
       "      <th>0</th>\n",
       "      <td>account_blocked</td>\n",
       "      <td>why is there a hold on my american saving bank...</td>\n",
       "      <td>True</td>\n",
       "    </tr>\n",
       "    <tr>\n",
       "      <th>1</th>\n",
       "      <td>account_blocked</td>\n",
       "      <td>i am nost sure why my account is blocked</td>\n",
       "      <td>True</td>\n",
       "    </tr>\n",
       "    <tr>\n",
       "      <th>2</th>\n",
       "      <td>account_blocked</td>\n",
       "      <td>why is there a hold on my capital one checking...</td>\n",
       "      <td>True</td>\n",
       "    </tr>\n",
       "    <tr>\n",
       "      <th>3</th>\n",
       "      <td>account_blocked</td>\n",
       "      <td>i think my account is blocked but i do not kno...</td>\n",
       "      <td>True</td>\n",
       "    </tr>\n",
       "    <tr>\n",
       "      <th>4</th>\n",
       "      <td>account_blocked</td>\n",
       "      <td>can you tell me why is my bank account frozen</td>\n",
       "      <td>True</td>\n",
       "    </tr>\n",
       "  </tbody>\n",
       "</table>\n",
       "</div>"
      ],
      "text/plain": [
       "             label                                               text  \\\n",
       "0  account_blocked  why is there a hold on my american saving bank...   \n",
       "1  account_blocked           i am nost sure why my account is blocked   \n",
       "2  account_blocked  why is there a hold on my capital one checking...   \n",
       "3  account_blocked  i think my account is blocked but i do not kno...   \n",
       "4  account_blocked      can you tell me why is my bank account frozen   \n",
       "\n",
       "   is_valid  \n",
       "0      True  \n",
       "1      True  \n",
       "2      True  \n",
       "3      True  \n",
       "4      True  "
      ]
     },
     "execution_count": 70,
     "metadata": {},
     "output_type": "execute_result"
    }
   ],
   "source": [
    "#df = pd.read_csv('./Final_Intent_Dataset_OOS_Plus.csv')\n",
    "df = pd.read_csv('./Final_Intent_Dataset_OOS_TextGen.csv')\n",
    "df.head()"
   ]
  },
  {
   "cell_type": "code",
   "execution_count": 71,
   "metadata": {},
   "outputs": [
    {
     "data": {
      "text/plain": [
       "'i am nost sure why my account is blocked'"
      ]
     },
     "execution_count": 71,
     "metadata": {},
     "output_type": "execute_result"
    }
   ],
   "source": [
    "df['text'][1]"
   ]
  },
  {
   "cell_type": "code",
   "execution_count": 72,
   "metadata": {},
   "outputs": [],
   "source": [
    "path = '/notebooks/storage/'"
   ]
  },
  {
   "cell_type": "markdown",
   "metadata": {},
   "source": [
    "### Language Model"
   ]
  },
  {
   "cell_type": "code",
   "execution_count": 73,
   "metadata": {},
   "outputs": [],
   "source": [
    "#data_lm = TextDataBunch.from_csv(path, 'Final_Intent_Dataset_OOS_Plus.csv')\n",
    "data_lm = TextDataBunch.from_csv(path, 'Final_Intent_Dataset_OOS_TextGen.csv')"
   ]
  },
  {
   "cell_type": "code",
   "execution_count": 74,
   "metadata": {},
   "outputs": [],
   "source": [
    "data_lm.save('tmp_lm')"
   ]
  },
  {
   "cell_type": "code",
   "execution_count": 75,
   "metadata": {},
   "outputs": [],
   "source": [
    "data_lm = TextLMDataBunch.load(path, 'tmp_lm', bs=32)"
   ]
  },
  {
   "cell_type": "code",
   "execution_count": 76,
   "metadata": {},
   "outputs": [
    {
     "data": {
      "text/html": [
       "<table>  <col width='5%'>  <col width='95%'>  <tr>\n",
       "    <th>idx</th>\n",
       "    <th>text</th>\n",
       "  </tr>\n",
       "  <tr>\n",
       "    <th>0</th>\n",
       "    <th>n't i get into my account xxbos do you know how i can change my insurance policy xxbos how do i rollover my 401k xxbos i need to report unauthorized activity on my card xxbos submit payment to xxunk energy for my electric bill xxbos when is my cell phone bill due xxbos who is the best architecture xxbos can you tell me how much i owe on my cable</th>\n",
       "  </tr>\n",
       "  <tr>\n",
       "    <th>1</th>\n",
       "    <th>how do i apply for new insurance xxbos tell me my current health plan xxbos what 's my credit score rating xxbos what is my exact credit score xxbos i xxunk \" were the xxunk \" on netflix last xxunk xxbos what is the lowest amount i can pay for my insurance bill xxbos what health coverage do i have xxbos how long before my xxunk cc takes to arrive</th>\n",
       "  </tr>\n",
       "  <tr>\n",
       "    <th>2</th>\n",
       "    <th>xxunk rate xxbos what is the deadline to xxunk at university of xxunk xxbos which insurance plan am i enrolled in xxbos how much do i have in savings xxbos what date is my water bill due xxbos you need to tell me my credit card 's apr xxbos let 's use my credit card points xxbos what was xxunk with my card yesterday xxbos what 's the healthcare plan</th>\n",
       "  </tr>\n",
       "  <tr>\n",
       "    <th>3</th>\n",
       "    <th>change the pin on my wells fargo account to be 1234 xxbos will you let me know what my spending limit is xxbos can you tell me when my credit card application will be processed xxbos which insurance plan do i have xxbos how do i report that i lost my card xxbos i was at xxunk trying to buy xxunk and my card got declined xxbos does medical xxunk</th>\n",
       "  </tr>\n",
       "  <tr>\n",
       "    <th>4</th>\n",
       "    <th>me my credit rating xxbos will you notify me when my new card is on the way xxbos please answer the phone and put it on xxunk on the tv xxbos please tell me this month 's transactions on my visa xxbos i can not use my card , it is damaged xxbos is the united states a xxunk xxbos how much am i xxunk to pay in tax xxbos</th>\n",
       "  </tr>\n",
       "</table>\n"
      ],
      "text/plain": [
       "<IPython.core.display.HTML object>"
      ]
     },
     "metadata": {},
     "output_type": "display_data"
    }
   ],
   "source": [
    "data_lm.show_batch()"
   ]
  },
  {
   "cell_type": "code",
   "execution_count": 77,
   "metadata": {},
   "outputs": [
    {
     "data": {
      "text/plain": [
       "['xxunk',\n",
       " 'xxpad',\n",
       " 'xxbos',\n",
       " 'xxfld',\n",
       " 'xxmaj',\n",
       " 'xxup',\n",
       " 'xxrep',\n",
       " 'xxwrep',\n",
       " 'my',\n",
       " 'i']"
      ]
     },
     "execution_count": 77,
     "metadata": {},
     "output_type": "execute_result"
    }
   ],
   "source": [
    "data_lm.vocab.itos[:10]"
   ]
  },
  {
   "cell_type": "code",
   "execution_count": 78,
   "metadata": {},
   "outputs": [
    {
     "data": {
      "text/plain": [
       "Text xxbos can i make a change to my credit limit"
      ]
     },
     "execution_count": 78,
     "metadata": {},
     "output_type": "execute_result"
    }
   ],
   "source": [
    "data_lm.train_ds[0][0]"
   ]
  },
  {
   "cell_type": "code",
   "execution_count": 79,
   "metadata": {},
   "outputs": [],
   "source": [
    "learn = language_model_learner(data_lm, pretrained_model=URLs.WT103_1, drop_mult=0.3)"
   ]
  },
  {
   "cell_type": "code",
   "execution_count": 80,
   "metadata": {},
   "outputs": [
    {
     "name": "stdout",
     "output_type": "stream",
     "text": [
      "LR Finder is complete, type {learner_name}.recorder.plot() to see the graph.\n"
     ]
    }
   ],
   "source": [
    "learn.lr_find()"
   ]
  },
  {
   "cell_type": "code",
   "execution_count": 81,
   "metadata": {},
   "outputs": [
    {
     "data": {
      "image/png": "[encoded data removed]",
      "text/plain": [
       "<Figure size 432x288 with 1 Axes>"
      ]
     },
     "metadata": {
      "needs_background": "light"
     },
     "output_type": "display_data"
    }
   ],
   "source": [
    "learn.recorder.plot(skip_end=15)"
   ]
  },
  {
   "cell_type": "code",
   "execution_count": 82,
   "metadata": {},
   "outputs": [
    {
     "data": {
      "text/html": [
       "Total time: 00:01 <p><table style='width:300px; margin-bottom:10px'>\n",
       "  <tr>\n",
       "    <th>epoch</th>\n",
       "    <th>train_loss</th>\n",
       "    <th>valid_loss</th>\n",
       "    <th>accuracy</th>\n",
       "  </tr>\n",
       "  <tr>\n",
       "    <th>1</th>\n",
       "    <th>3.931718</th>\n",
       "    <th>2.789697</th>\n",
       "    <th>0.394792</th>\n",
       "  </tr>\n",
       "</table>\n"
      ],
      "text/plain": [
       "<IPython.core.display.HTML object>"
      ]
     },
     "metadata": {},
     "output_type": "display_data"
    }
   ],
   "source": [
    "learn.fit_one_cycle(1, 1e-01, moms=(0.8,0.7))"
   ]
  },
  {
   "cell_type": "code",
   "execution_count": 83,
   "metadata": {},
   "outputs": [],
   "source": [
    "#learn.save('fit_head')"
   ]
  },
  {
   "cell_type": "code",
   "execution_count": 84,
   "metadata": {},
   "outputs": [],
   "source": [
    "#learn.load('fit_head')"
   ]
  },
  {
   "cell_type": "code",
   "execution_count": 85,
   "metadata": {},
   "outputs": [],
   "source": [
    "learn.unfreeze()"
   ]
  },
  {
   "cell_type": "code",
   "execution_count": 86,
   "metadata": {},
   "outputs": [
    {
     "data": {
      "text/html": [
       "Total time: 00:02 <p><table style='width:300px; margin-bottom:10px'>\n",
       "  <tr>\n",
       "    <th>epoch</th>\n",
       "    <th>train_loss</th>\n",
       "    <th>valid_loss</th>\n",
       "    <th>accuracy</th>\n",
       "  </tr>\n",
       "  <tr>\n",
       "    <th>1</th>\n",
       "    <th>2.862712</th>\n",
       "    <th>2.514009</th>\n",
       "    <th>0.436310</th>\n",
       "  </tr>\n",
       "</table>\n"
      ],
      "text/plain": [
       "<IPython.core.display.HTML object>"
      ]
     },
     "metadata": {},
     "output_type": "display_data"
    }
   ],
   "source": [
    "learn.fit_one_cycle(1, 1e-2, moms=(0.8,0.7))"
   ]
  },
  {
   "cell_type": "code",
   "execution_count": 87,
   "metadata": {},
   "outputs": [],
   "source": [
    "#learn.save('fine_tuned')"
   ]
  },
  {
   "cell_type": "code",
   "execution_count": 88,
   "metadata": {},
   "outputs": [],
   "source": [
    "#learn.load('fine_tuned')"
   ]
  },
  {
   "cell_type": "code",
   "execution_count": 89,
   "metadata": {},
   "outputs": [],
   "source": [
    "TEXT = \"What is the credit\"\n",
    "N_WORDS = 10\n",
    "N_SENTENCES = 1"
   ]
  },
  {
   "cell_type": "code",
   "execution_count": 90,
   "metadata": {},
   "outputs": [
    {
     "name": "stdout",
     "output_type": "stream",
     "text": [
      "What is the credit limit on my discover card xxbos i would like to\n"
     ]
    }
   ],
   "source": [
    "print(\"\\n\".join(learn.predict(TEXT, N_WORDS, temperature=0.75) for _ in range(N_SENTENCES)))"
   ]
  },
  {
   "cell_type": "code",
   "execution_count": 91,
   "metadata": {},
   "outputs": [],
   "source": [
    "learn.save_encoder('fine_tuned_enc')"
   ]
  },
  {
   "cell_type": "markdown",
   "metadata": {},
   "source": [
    "### Classifier"
   ]
  },
  {
   "cell_type": "code",
   "execution_count": 92,
   "metadata": {},
   "outputs": [],
   "source": [
    "# data_clas = (TextList.from_csv(path, 'Final_Intent_Dataset_OOS_Plus.csv', cols='text')\n",
    "#                 .split_from_df(col=2)\n",
    "#                 .label_from_df(cols=0)\n",
    "#                 .databunch())\n",
    "data_clas = (TextList.from_csv(path, 'Final_Intent_Dataset_OOS_TextGen.csv', cols='text')\n",
    "                .split_from_df(col=2)\n",
    "                .label_from_df(cols=0)\n",
    "                .databunch())"
   ]
  },
  {
   "cell_type": "code",
   "execution_count": 93,
   "metadata": {},
   "outputs": [],
   "source": [
    "#data_clas = TextClasDataBunch.from_csv(path, 'Final_Intent_Dataset_OOS_Plus.csv', vocab=data_lm.train_ds.vocab, bs=32)\n",
    "data_clas = TextClasDataBunch.from_csv(path, 'Final_Intent_Dataset_OOS_TextGen.csv', vocab=data_lm.train_ds.vocab, bs=32)"
   ]
  },
  {
   "cell_type": "code",
   "execution_count": 94,
   "metadata": {},
   "outputs": [],
   "source": [
    "data_clas.save('tmp_clas')"
   ]
  },
  {
   "cell_type": "code",
   "execution_count": 95,
   "metadata": {},
   "outputs": [
    {
     "data": {
      "text/html": [
       "<table>  <col width='90%'>  <col width='10%'>  <tr>\n",
       "    <th>text</th>\n",
       "    <th>target</th>\n",
       "  </tr>\n",
       "  <tr>\n",
       "    <th>xxbos xxmaj is there a bill   currently in the xxmaj xxunk that would prevent xxmaj xxunk xxmaj xxunk from being xxunk in our xxmaj xxunk</th>\n",
       "    <th>oos</th>\n",
       "  </tr>\n",
       "  <tr>\n",
       "    <th>xxbos xxmaj if the person has no say in the xxunk do they have a right to xxunk a request for a request for a bill</th>\n",
       "    <th>oos</th>\n",
       "  </tr>\n",
       "  <tr>\n",
       "    <th>xxbos how long will it take me to pay off my card if i pay an extra $ 50 a month over the minimum</th>\n",
       "    <th>oos</th>\n",
       "  </tr>\n",
       "  <tr>\n",
       "    <th>xxbos i keep trying to figure out if i have enough money in my chase account to purchase a new set of xxunk</th>\n",
       "    <th>balance</th>\n",
       "  </tr>\n",
       "  <tr>\n",
       "    <th>xxbos i recently lost my credit card and need to know how long it takes to get a new one mailed to me</th>\n",
       "    <th>replacement_card_duration</th>\n",
       "  </tr>\n",
       "</table>\n"
      ],
      "text/plain": [
       "<IPython.core.display.HTML object>"
      ]
     },
     "metadata": {},
     "output_type": "display_data"
    }
   ],
   "source": [
    "data_clas.show_batch()"
   ]
  },
  {
   "cell_type": "code",
   "execution_count": 96,
   "metadata": {},
   "outputs": [],
   "source": [
    "learn = text_classifier_learner(data_clas, drop_mult=0.5)\n",
    "learn.load_encoder('fine_tuned_enc')"
   ]
  },
  {
   "cell_type": "code",
   "execution_count": 97,
   "metadata": {},
   "outputs": [],
   "source": [
    "learn.freeze()"
   ]
  },
  {
   "cell_type": "code",
   "execution_count": 98,
   "metadata": {},
   "outputs": [
    {
     "name": "stdout",
     "output_type": "stream",
     "text": [
      "LR Finder is complete, type {learner_name}.recorder.plot() to see the graph.\n"
     ]
    }
   ],
   "source": [
    "learn.lr_find()"
   ]
  },
  {
   "cell_type": "code",
   "execution_count": 99,
   "metadata": {},
   "outputs": [
    {
     "data": {
      "image/png": "[encoded data removed]",
      "text/plain": [
       "<Figure size 432x288 with 1 Axes>"
      ]
     },
     "metadata": {
      "needs_background": "light"
     },
     "output_type": "display_data"
    }
   ],
   "source": [
    "learn.recorder.plot()"
   ]
  },
  {
   "cell_type": "code",
   "execution_count": 100,
   "metadata": {},
   "outputs": [
    {
     "data": {
      "text/html": [
       "Total time: 00:53 <p><table style='width:300px; margin-bottom:10px'>\n",
       "  <tr>\n",
       "    <th>epoch</th>\n",
       "    <th>train_loss</th>\n",
       "    <th>valid_loss</th>\n",
       "    <th>accuracy</th>\n",
       "  </tr>\n",
       "  <tr>\n",
       "    <th>1</th>\n",
       "    <th>1.388285</th>\n",
       "    <th>0.684649</th>\n",
       "    <th>0.819579</th>\n",
       "  </tr>\n",
       "  <tr>\n",
       "    <th>2</th>\n",
       "    <th>1.162192</th>\n",
       "    <th>0.573222</th>\n",
       "    <th>0.819579</th>\n",
       "  </tr>\n",
       "  <tr>\n",
       "    <th>3</th>\n",
       "    <th>1.079894</th>\n",
       "    <th>0.737359</th>\n",
       "    <th>0.807443</th>\n",
       "  </tr>\n",
       "  <tr>\n",
       "    <th>4</th>\n",
       "    <th>0.966048</th>\n",
       "    <th>0.470276</th>\n",
       "    <th>0.860841</th>\n",
       "  </tr>\n",
       "  <tr>\n",
       "    <th>5</th>\n",
       "    <th>0.909396</th>\n",
       "    <th>0.417173</th>\n",
       "    <th>0.880259</th>\n",
       "  </tr>\n",
       "  <tr>\n",
       "    <th>6</th>\n",
       "    <th>0.801179</th>\n",
       "    <th>0.387327</th>\n",
       "    <th>0.876214</th>\n",
       "  </tr>\n",
       "  <tr>\n",
       "    <th>7</th>\n",
       "    <th>0.746703</th>\n",
       "    <th>0.352040</th>\n",
       "    <th>0.893204</th>\n",
       "  </tr>\n",
       "  <tr>\n",
       "    <th>8</th>\n",
       "    <th>0.608191</th>\n",
       "    <th>0.293094</th>\n",
       "    <th>0.913430</th>\n",
       "  </tr>\n",
       "  <tr>\n",
       "    <th>9</th>\n",
       "    <th>0.590194</th>\n",
       "    <th>0.290331</th>\n",
       "    <th>0.907767</th>\n",
       "  </tr>\n",
       "  <tr>\n",
       "    <th>10</th>\n",
       "    <th>0.567831</th>\n",
       "    <th>0.274533</th>\n",
       "    <th>0.913430</th>\n",
       "  </tr>\n",
       "</table>\n"
      ],
      "text/plain": [
       "<IPython.core.display.HTML object>"
      ]
     },
     "metadata": {},
     "output_type": "display_data"
    }
   ],
   "source": [
    "learn.fit_one_cycle(10, 2e-2, moms=(0.8,0.7))"
   ]
  },
  {
   "cell_type": "code",
   "execution_count": 101,
   "metadata": {},
   "outputs": [],
   "source": [
    "#learn.save('after-first-training')"
   ]
  },
  {
   "cell_type": "code",
   "execution_count": 102,
   "metadata": {},
   "outputs": [],
   "source": [
    "#learn.load('after-first-training')"
   ]
  },
  {
   "cell_type": "code",
   "execution_count": 103,
   "metadata": {},
   "outputs": [
    {
     "data": {
      "text/html": [
       "Total time: 00:05 <p><table style='width:300px; margin-bottom:10px'>\n",
       "  <tr>\n",
       "    <th>epoch</th>\n",
       "    <th>train_loss</th>\n",
       "    <th>valid_loss</th>\n",
       "    <th>accuracy</th>\n",
       "  </tr>\n",
       "  <tr>\n",
       "    <th>1</th>\n",
       "    <th>0.623664</th>\n",
       "    <th>0.299333</th>\n",
       "    <th>0.911003</th>\n",
       "  </tr>\n",
       "</table>\n"
      ],
      "text/plain": [
       "<IPython.core.display.HTML object>"
      ]
     },
     "metadata": {},
     "output_type": "display_data"
    }
   ],
   "source": [
    "learn.freeze_to(-2)\n",
    "learn.fit_one_cycle(1, slice(1e-2/(2.6**4),1e-2), moms=(0.8,0.7))"
   ]
  },
  {
   "cell_type": "code",
   "execution_count": 104,
   "metadata": {},
   "outputs": [],
   "source": [
    "#learn.save('after-second-training')"
   ]
  },
  {
   "cell_type": "code",
   "execution_count": 105,
   "metadata": {},
   "outputs": [],
   "source": [
    "#learn.load('after-second-training')"
   ]
  },
  {
   "cell_type": "code",
   "execution_count": 106,
   "metadata": {},
   "outputs": [
    {
     "data": {
      "text/html": [
       "Total time: 00:08 <p><table style='width:300px; margin-bottom:10px'>\n",
       "  <tr>\n",
       "    <th>epoch</th>\n",
       "    <th>train_loss</th>\n",
       "    <th>valid_loss</th>\n",
       "    <th>accuracy</th>\n",
       "  </tr>\n",
       "  <tr>\n",
       "    <th>1</th>\n",
       "    <th>0.387489</th>\n",
       "    <th>0.204205</th>\n",
       "    <th>0.935275</th>\n",
       "  </tr>\n",
       "</table>\n"
      ],
      "text/plain": [
       "<IPython.core.display.HTML object>"
      ]
     },
     "metadata": {},
     "output_type": "display_data"
    }
   ],
   "source": [
    "learn.freeze_to(-3)\n",
    "learn.fit_one_cycle(1, slice(5e-3/(2.6**4),5e-3), moms=(0.8,0.7))"
   ]
  },
  {
   "cell_type": "code",
   "execution_count": 107,
   "metadata": {},
   "outputs": [],
   "source": [
    "#learn.save('after-third-training')"
   ]
  },
  {
   "cell_type": "code",
   "execution_count": 108,
   "metadata": {},
   "outputs": [],
   "source": [
    "#learn.load('after-third-training')"
   ]
  },
  {
   "cell_type": "code",
   "execution_count": 109,
   "metadata": {},
   "outputs": [
    {
     "data": {
      "text/html": [
       "Total time: 00:49 <p><table style='width:300px; margin-bottom:10px'>\n",
       "  <tr>\n",
       "    <th>epoch</th>\n",
       "    <th>train_loss</th>\n",
       "    <th>valid_loss</th>\n",
       "    <th>accuracy</th>\n",
       "  </tr>\n",
       "  <tr>\n",
       "    <th>1</th>\n",
       "    <th>0.353008</th>\n",
       "    <th>0.197783</th>\n",
       "    <th>0.940129</th>\n",
       "  </tr>\n",
       "  <tr>\n",
       "    <th>2</th>\n",
       "    <th>0.334404</th>\n",
       "    <th>0.186591</th>\n",
       "    <th>0.941748</th>\n",
       "  </tr>\n",
       "  <tr>\n",
       "    <th>3</th>\n",
       "    <th>0.262757</th>\n",
       "    <th>0.163626</th>\n",
       "    <th>0.943366</th>\n",
       "  </tr>\n",
       "  <tr>\n",
       "    <th>4</th>\n",
       "    <th>0.212075</th>\n",
       "    <th>0.150976</th>\n",
       "    <th>0.953074</th>\n",
       "  </tr>\n",
       "  <tr>\n",
       "    <th>5</th>\n",
       "    <th>0.208490</th>\n",
       "    <th>0.153566</th>\n",
       "    <th>0.949838</th>\n",
       "  </tr>\n",
       "</table>\n"
      ],
      "text/plain": [
       "<IPython.core.display.HTML object>"
      ]
     },
     "metadata": {},
     "output_type": "display_data"
    }
   ],
   "source": [
    "learn.unfreeze()\n",
    "learn.fit_one_cycle(5, slice(1e-3/(2.6**4),1e-3), moms=(0.8,0.7))"
   ]
  },
  {
   "cell_type": "code",
   "execution_count": 110,
   "metadata": {},
   "outputs": [
    {
     "data": {
      "text/plain": [
       "(Category account_blocked,\n",
       " tensor(0),\n",
       " tensor([9.9965e-01, 1.5145e-08, 4.0042e-11, 2.2589e-06, 3.4799e-09, 1.6234e-08,\n",
       "         3.2552e-04, 9.0416e-10, 4.1750e-09, 2.1177e-10, 2.1556e-08, 2.7024e-07,\n",
       "         4.9671e-08, 1.4458e-09, 1.1381e-05, 8.0500e-09, 5.0782e-08, 2.9572e-08,\n",
       "         1.2053e-07, 3.1211e-09, 4.5314e-09, 4.3927e-10, 7.3368e-07, 3.2142e-08,\n",
       "         8.1899e-09, 1.3003e-05, 5.8752e-10, 5.4060e-09, 7.7736e-08, 7.6776e-09,\n",
       "         2.8694e-09, 8.8664e-09, 4.9486e-09, 1.9876e-08, 9.7140e-08]))"
      ]
     },
     "execution_count": 110,
     "metadata": {},
     "output_type": "execute_result"
    }
   ],
   "source": [
    "learn.predict(\"why can't i access my chase account\")"
   ]
  },
  {
   "cell_type": "code",
   "execution_count": 111,
   "metadata": {},
   "outputs": [
    {
     "data": {
      "text/plain": [
       "(Category application_status,\n",
       " tensor(1),\n",
       " tensor([2.9859e-09, 9.9999e-01, 8.8150e-07, 3.4539e-08, 8.3306e-09, 4.7215e-07,\n",
       "         2.3536e-07, 1.3114e-08, 5.6585e-09, 2.6222e-09, 2.0282e-07, 1.9333e-09,\n",
       "         2.3052e-10, 3.1619e-06, 2.1399e-09, 2.9110e-10, 4.3782e-08, 1.6394e-08,\n",
       "         4.1080e-11, 3.2364e-08, 6.7081e-09, 2.8531e-07, 9.5443e-08, 1.1936e-08,\n",
       "         4.7789e-07, 2.3753e-09, 2.2053e-07, 8.9059e-07, 4.0773e-10, 5.3665e-09,\n",
       "         4.5050e-08, 2.6759e-09, 1.4148e-09, 5.9081e-08, 2.1797e-09]))"
      ]
     },
     "execution_count": 111,
     "metadata": {},
     "output_type": "execute_result"
    }
   ],
   "source": [
    "learn.predict(\"has my mastercard application gone through the process\")"
   ]
  },
  {
   "cell_type": "code",
   "execution_count": 112,
   "metadata": {},
   "outputs": [
    {
     "data": {
      "text/plain": [
       "(Category apr,\n",
       " tensor(2),\n",
       " tensor([5.2690e-08, 1.4242e-06, 9.9989e-01, 2.8965e-06, 5.3253e-06, 1.4283e-06,\n",
       "         3.0890e-08, 3.9005e-05, 2.5952e-08, 3.1170e-07, 1.8523e-07, 2.9470e-09,\n",
       "         1.1464e-08, 1.7441e-05, 1.7514e-07, 7.9501e-09, 6.2836e-07, 2.4520e-08,\n",
       "         1.4678e-06, 5.2312e-07, 7.1216e-07, 1.6548e-08, 1.9503e-06, 3.8718e-08,\n",
       "         1.9538e-08, 2.3834e-06, 1.0738e-08, 1.9599e-06, 1.4516e-06, 1.4834e-07,\n",
       "         2.3241e-05, 1.2510e-08, 1.4795e-06, 1.9824e-06, 4.1536e-08]))"
      ]
     },
     "execution_count": 112,
     "metadata": {},
     "output_type": "execute_result"
    }
   ],
   "source": [
    "learn.predict(\"what's the apr on my capital one venture card\")"
   ]
  },
  {
   "cell_type": "code",
   "execution_count": 113,
   "metadata": {},
   "outputs": [
    {
     "data": {
      "text/plain": [
       "(Category insurance_change,\n",
       " tensor(17),\n",
       " tensor([2.3063e-08, 9.2102e-08, 3.3767e-08, 7.8900e-08, 6.1609e-07, 6.9051e-06,\n",
       "         6.5912e-08, 2.0098e-09, 2.6470e-06, 7.3006e-08, 3.8311e-09, 2.9861e-06,\n",
       "         5.0801e-06, 1.8778e-08, 8.8711e-10, 1.8027e-06, 4.4384e-04, 9.9948e-01,\n",
       "         5.6514e-08, 2.8466e-06, 5.3002e-08, 1.2846e-06, 2.2033e-05, 7.8746e-07,\n",
       "         1.0008e-06, 1.8923e-06, 2.2202e-06, 1.3866e-06, 7.1319e-08, 2.9465e-08,\n",
       "         2.7323e-08, 1.0539e-06, 1.6426e-07, 3.4268e-07, 2.3003e-05]))"
      ]
     },
     "execution_count": 113,
     "metadata": {},
     "output_type": "execute_result"
    }
   ],
   "source": [
    "learn.predict(\"what if i want to switch insurance plans\")"
   ]
  },
  {
   "cell_type": "code",
   "execution_count": 114,
   "metadata": {},
   "outputs": [
    {
     "data": {
      "text/plain": [
       "(Category new_card,\n",
       " tensor(21),\n",
       " tensor([9.4499e-11, 1.3692e-05, 9.2254e-09, 1.6703e-09, 1.9921e-10, 7.5293e-09,\n",
       "         1.9756e-08, 5.1562e-08, 1.9092e-08, 1.1715e-07, 2.5424e-08, 6.7745e-09,\n",
       "         4.6793e-09, 4.9978e-08, 6.8042e-10, 1.1591e-09, 1.1856e-09, 2.5830e-08,\n",
       "         1.2159e-09, 4.0136e-08, 1.7649e-10, 9.9997e-01, 3.6449e-07, 9.8263e-09,\n",
       "         3.2304e-09, 5.1963e-10, 1.1287e-05, 3.4121e-06, 8.8507e-09, 1.5553e-07,\n",
       "         1.6933e-07, 2.6062e-10, 1.3057e-10, 2.3968e-10, 7.8050e-12]))"
      ]
     },
     "execution_count": 114,
     "metadata": {},
     "output_type": "execute_result"
    }
   ],
   "source": [
    "learn.predict(\"how do i apply for a visa card\")"
   ]
  },
  {
   "cell_type": "code",
   "execution_count": 115,
   "metadata": {},
   "outputs": [
    {
     "data": {
      "text/plain": [
       "(Category rewards_balance,\n",
       " tensor(30),\n",
       " tensor([2.0910e-07, 1.1602e-06, 5.4278e-07, 1.4890e-04, 2.3120e-06, 1.4147e-08,\n",
       "         8.5025e-09, 2.0567e-04, 1.8422e-06, 1.9010e-07, 6.8552e-10, 1.5222e-07,\n",
       "         4.5542e-08, 2.5173e-08, 7.3737e-07, 1.0644e-08, 1.9532e-05, 8.6771e-09,\n",
       "         3.5603e-06, 4.7210e-08, 5.2705e-07, 2.4961e-08, 2.2432e-06, 2.6542e-08,\n",
       "         2.1777e-09, 3.0110e-07, 8.9989e-04, 9.2593e-10, 2.1764e-07, 7.6274e-09,\n",
       "         9.9870e-01, 2.6624e-08, 1.0689e-06, 1.0680e-05, 9.5988e-09]))"
      ]
     },
     "execution_count": 115,
     "metadata": {},
     "output_type": "execute_result"
    }
   ],
   "source": [
    "learn.predict(\"what points have i earned on my visa\")"
   ]
  },
  {
   "cell_type": "code",
   "execution_count": 116,
   "metadata": {},
   "outputs": [
    {
     "data": {
      "text/plain": [
       "(Category improve_credit_score,\n",
       " tensor(15),\n",
       " tensor([3.2029e-07, 1.5605e-05, 2.1017e-05, 9.0119e-08, 7.2609e-08, 2.0696e-05,\n",
       "         3.9188e-06, 2.3912e-05, 1.0004e-03, 1.7569e-01, 3.2406e-05, 6.5254e-06,\n",
       "         1.5729e-06, 3.8652e-04, 1.6878e-07, 8.2181e-01, 2.4517e-06, 4.0121e-05,\n",
       "         1.6327e-07, 8.0853e-04, 2.5672e-07, 3.1455e-07, 4.5414e-06, 9.9434e-08,\n",
       "         8.6003e-07, 3.0868e-06, 8.9631e-06, 1.3174e-05, 7.7864e-06, 8.1847e-05,\n",
       "         1.6525e-06, 4.6353e-06, 3.7640e-06, 1.4057e-06, 1.2931e-06]))"
      ]
     },
     "execution_count": 116,
     "metadata": {},
     "output_type": "execute_result"
    }
   ],
   "source": [
    "learn.predict(\"if i lose my job will my credit score go down\")"
   ]
  },
  {
   "cell_type": "code",
   "execution_count": 117,
   "metadata": {},
   "outputs": [
    {
     "data": {
      "text/plain": [
       "(Category transfer,\n",
       " tensor(34),\n",
       " tensor([3.9244e-04, 2.0855e-08, 3.4293e-07, 5.6316e-04, 4.1074e-05, 2.4460e-06,\n",
       "         3.3286e-06, 2.6411e-07, 2.2006e-06, 7.4479e-08, 1.2236e-06, 3.8928e-06,\n",
       "         2.3415e-05, 4.1769e-07, 8.4552e-04, 4.5284e-07, 3.5221e-07, 6.0732e-06,\n",
       "         1.6953e-06, 1.0089e-06, 1.1591e-06, 2.4269e-07, 9.9482e-04, 3.5200e-05,\n",
       "         1.1121e-04, 7.7081e-06, 1.3299e-07, 3.6045e-06, 1.4866e-05, 2.4197e-06,\n",
       "         1.6308e-08, 2.1245e-05, 1.9722e-05, 2.6731e-05, 9.9687e-01]))"
      ]
     },
     "execution_count": 117,
     "metadata": {},
     "output_type": "execute_result"
    }
   ],
   "source": [
    "learn.predict(\"can i initiate a one-time transfer from my savings account to my money market account\")"
   ]
  },
  {
   "cell_type": "code",
   "execution_count": 118,
   "metadata": {},
   "outputs": [
    {
     "data": {
      "text/plain": [
       "(Category transactions,\n",
       " tensor(33),\n",
       " tensor([2.8671e-05, 8.5300e-05, 2.9473e-06, 7.0395e-04, 1.5193e-03, 2.2678e-04,\n",
       "         1.7414e-05, 3.5642e-05, 2.8693e-05, 7.4099e-06, 3.8712e-07, 1.9739e-05,\n",
       "         2.7560e-04, 2.5794e-04, 2.8592e-05, 9.8978e-07, 1.9060e-05, 1.7484e-05,\n",
       "         1.3745e-04, 1.0773e-04, 1.1934e-04, 1.3566e-05, 4.8297e-03, 2.8065e-04,\n",
       "         7.8331e-06, 6.6370e-05, 2.0633e-03, 1.2817e-05, 1.7129e-05, 2.6436e-06,\n",
       "         1.9013e-04, 2.7977e-06, 4.0716e-05, 9.8846e-01, 3.7607e-04]))"
      ]
     },
     "execution_count": 118,
     "metadata": {},
     "output_type": "execute_result"
    }
   ],
   "source": [
    "learn.predict(\"i need to see all visa purchases for march\")"
   ]
  },
  {
   "cell_type": "code",
   "execution_count": 119,
   "metadata": {},
   "outputs": [],
   "source": [
    "learn.export('/notebooks/storage/ULMFiT_classifier_model_OOS_Plus.pkl')"
   ]
  },
  {
   "cell_type": "code",
   "execution_count": 120,
   "metadata": {},
   "outputs": [],
   "source": [
    "my_path = learn.path"
   ]
  },
  {
   "cell_type": "code",
   "execution_count": 121,
   "metadata": {},
   "outputs": [],
   "source": [
    "my_learn = load_learner(my_path, 'ULMFiT_classifier_model_OOS_Plus.pkl')"
   ]
  },
  {
   "cell_type": "code",
   "execution_count": 122,
   "metadata": {},
   "outputs": [
    {
     "data": {
      "text/plain": [
       "(Category report_lost_card,\n",
       " tensor(29),\n",
       " tensor([1.1312e-11, 1.3790e-11, 1.9029e-11, 3.1430e-12, 1.0625e-10, 1.0083e-11,\n",
       "         5.2940e-09, 6.4357e-12, 1.9231e-13, 1.3326e-11, 3.8287e-05, 1.3263e-14,\n",
       "         4.0680e-10, 3.2816e-11, 9.9816e-12, 5.5105e-12, 1.9719e-11, 1.5507e-11,\n",
       "         2.3061e-14, 4.5621e-11, 7.8619e-16, 2.1040e-11, 1.1348e-10, 4.3618e-12,\n",
       "         1.0049e-12, 1.2370e-14, 1.0324e-10, 9.3765e-10, 4.7840e-09, 9.9996e-01,\n",
       "         8.6955e-11, 5.8376e-11, 1.3767e-09, 4.3250e-12, 7.0727e-12]))"
      ]
     },
     "execution_count": 122,
     "metadata": {},
     "output_type": "execute_result"
    }
   ],
   "source": [
    "my_learn.predict(\"how do i report the card as lost\")"
   ]
  },
  {
   "cell_type": "code",
   "execution_count": 123,
   "metadata": {},
   "outputs": [
    {
     "data": {
      "text/plain": [
       "(Category oos,\n",
       " tensor(22),\n",
       " tensor([1.7849e-04, 6.5517e-06, 4.5683e-05, 4.9545e-04, 3.4742e-05, 3.0701e-06,\n",
       "         1.8946e-05, 2.6186e-05, 2.1385e-06, 1.1162e-05, 4.9200e-05, 6.9229e-07,\n",
       "         5.1829e-04, 7.0283e-06, 1.1537e-05, 7.5285e-06, 5.5738e-05, 1.0554e-05,\n",
       "         6.4758e-05, 2.1365e-07, 2.5008e-05, 2.8601e-04, 9.9771e-01, 2.0633e-05,\n",
       "         1.3624e-07, 5.4679e-06, 1.0454e-06, 3.2225e-04, 7.8960e-06, 3.9962e-05,\n",
       "         6.1387e-06, 9.9033e-06, 7.2180e-06, 7.4654e-06, 1.4968e-06]))"
      ]
     },
     "execution_count": 123,
     "metadata": {},
     "output_type": "execute_result"
    }
   ],
   "source": [
    "my_learn.predict(\"can you explain a good risk strategy to me\")"
   ]
  },
  {
   "cell_type": "code",
   "execution_count": 124,
   "metadata": {},
   "outputs": [
    {
     "data": {
      "text/plain": [
       "(Category bill_due,\n",
       " tensor(5),\n",
       " tensor([1.3350e-05, 8.9881e-04, 5.7440e-05, 2.1435e-04, 4.9344e-03, 9.1889e-01,\n",
       "         6.7395e-06, 1.9623e-05, 1.9825e-06, 3.6029e-06, 1.7676e-06, 1.0054e-07,\n",
       "         1.5255e-06, 5.0047e-03, 2.0733e-07, 9.3037e-07, 6.0139e-02, 6.1148e-03,\n",
       "         2.6615e-05, 1.6305e-05, 2.9576e-04, 4.0825e-07, 5.7592e-04, 9.9507e-07,\n",
       "         4.2442e-05, 4.4064e-05, 1.4297e-07, 2.4683e-03, 1.3091e-07, 3.3409e-06,\n",
       "         1.0754e-05, 7.3979e-06, 1.8132e-04, 1.7600e-05, 1.2913e-06]))"
      ]
     },
     "execution_count": 124,
     "metadata": {},
     "output_type": "execute_result"
    }
   ],
   "source": [
    "my_learn.predict(\"whens my insurance due and how much does it cost\")"
   ]
  },
  {
   "cell_type": "code",
   "execution_count": 125,
   "metadata": {},
   "outputs": [
    {
     "data": {
      "text/plain": [
       "(Category credit_limit,\n",
       " tensor(7),\n",
       " tensor([1.1283e-08, 6.8988e-06, 1.0929e-04, 2.2028e-05, 3.1351e-06, 1.8920e-05,\n",
       "         1.0825e-07, 9.9917e-01, 4.0453e-04, 9.6272e-05, 1.6398e-07, 1.7842e-07,\n",
       "         2.9155e-07, 3.5914e-05, 4.2448e-09, 2.4456e-07, 4.4850e-07, 3.0553e-08,\n",
       "         3.0706e-05, 2.7645e-06, 3.0231e-05, 1.9157e-07, 3.5375e-07, 1.1694e-08,\n",
       "         2.6511e-07, 1.2263e-05, 1.1395e-05, 4.3358e-07, 1.7028e-07, 1.1884e-06,\n",
       "         4.2772e-05, 2.9695e-09, 6.0690e-07, 3.0868e-06, 2.9613e-09]))"
      ]
     },
     "execution_count": 125,
     "metadata": {},
     "output_type": "execute_result"
    }
   ],
   "source": [
    "my_learn.predict(\"tell me my hsbc card credit limit\")"
   ]
  },
  {
   "cell_type": "code",
   "execution_count": 126,
   "metadata": {},
   "outputs": [
    {
     "data": {
      "text/plain": [
       "(Category bill_due,\n",
       " tensor(5),\n",
       " tensor([8.5154e-09, 2.7776e-07, 6.7654e-08, 2.8414e-08, 7.5264e-05, 9.9959e-01,\n",
       "         9.0661e-08, 1.0487e-08, 1.2063e-09, 3.1769e-09, 3.2723e-09, 3.1373e-08,\n",
       "         4.6615e-09, 1.4542e-04, 6.9968e-10, 3.9758e-09, 4.8636e-08, 1.3749e-07,\n",
       "         1.8298e-08, 8.4543e-09, 3.3862e-06, 6.2475e-10, 1.1078e-04, 7.4576e-10,\n",
       "         4.2176e-06, 6.8358e-09, 4.7442e-11, 7.4144e-05, 2.3510e-10, 1.6813e-09,\n",
       "         1.1348e-08, 1.0584e-08, 1.4470e-07, 2.1832e-08, 1.1743e-08]))"
      ]
     },
     "execution_count": 126,
     "metadata": {},
     "output_type": "execute_result"
    }
   ],
   "source": [
    "my_learn.predict(\"when does my gas bill need paid by\")"
   ]
  },
  {
   "cell_type": "code",
   "execution_count": 127,
   "metadata": {},
   "outputs": [
    {
     "data": {
      "text/plain": [
       "(Category report_lost_card,\n",
       " tensor(29),\n",
       " tensor([1.0732e-04, 4.9381e-06, 1.5337e-05, 6.0752e-06, 6.3038e-05, 6.3527e-06,\n",
       "         1.3816e-04, 5.5463e-05, 9.3060e-06, 6.7069e-05, 8.8394e-02, 1.1582e-06,\n",
       "         2.8782e-06, 8.3210e-06, 1.4803e-03, 3.2055e-05, 1.1261e-05, 1.2116e-05,\n",
       "         5.2561e-07, 3.0449e-05, 2.3820e-07, 1.1323e-05, 6.8101e-04, 5.1774e-06,\n",
       "         5.0044e-05, 5.6227e-05, 2.2891e-05, 1.9893e-06, 4.4692e-01, 4.6024e-01,\n",
       "         6.4357e-06, 2.2820e-05, 4.7267e-06, 1.3917e-03, 1.3087e-04]))"
      ]
     },
     "execution_count": 127,
     "metadata": {},
     "output_type": "execute_result"
    }
   ],
   "source": [
    "my_learn.predict(\"i accidentally deactivated the magnetic stripe on my visa debit card and i need to report it\")"
   ]
  },
  {
   "cell_type": "code",
   "execution_count": 128,
   "metadata": {},
   "outputs": [
    {
     "data": {
      "text/plain": [
       "(Category exchange_rate,\n",
       " tensor(12),\n",
       " tensor([7.1578e-07, 2.5645e-09, 1.3947e-08, 4.5064e-06, 9.4875e-07, 8.3738e-09,\n",
       "         6.2555e-08, 2.1672e-08, 2.3105e-07, 7.7980e-09, 7.2625e-08, 1.5545e-07,\n",
       "         9.7346e-01, 1.2551e-08, 5.0734e-08, 2.2918e-08, 1.0131e-08, 3.0167e-08,\n",
       "         4.2835e-08, 8.5173e-07, 6.9871e-09, 1.4377e-08, 7.6535e-04, 3.7513e-07,\n",
       "         1.6760e-07, 3.9032e-10, 8.0558e-08, 8.4089e-08, 1.9297e-08, 1.9176e-07,\n",
       "         2.8558e-09, 1.5925e-07, 4.1180e-05, 1.1157e-06, 2.5727e-02]))"
      ]
     },
     "execution_count": 128,
     "metadata": {},
     "output_type": "execute_result"
    }
   ],
   "source": [
    "my_learn.predict(\"is $30 usd more or less in canada\")"
   ]
  },
  {
   "cell_type": "code",
   "execution_count": 129,
   "metadata": {},
   "outputs": [
    {
     "data": {
      "text/plain": [
       "(Category order_checks,\n",
       " tensor(23),\n",
       " tensor([1.8540e-09, 1.4460e-10, 2.9398e-10, 1.2015e-07, 1.8058e-07, 9.0299e-10,\n",
       "         6.5025e-12, 1.2863e-09, 2.8189e-10, 3.3504e-09, 8.4831e-11, 5.3477e-07,\n",
       "         2.8272e-10, 5.1201e-12, 1.2153e-09, 3.1409e-10, 2.2657e-08, 1.5210e-08,\n",
       "         6.3894e-08, 5.0101e-11, 9.6430e-09, 2.0831e-09, 3.4053e-07, 1.0000e+00,\n",
       "         4.3988e-10, 5.0118e-08, 1.3009e-07, 8.1294e-09, 4.4603e-10, 7.9494e-10,\n",
       "         8.8300e-09, 4.9777e-10, 1.4597e-08, 2.9744e-09, 1.5743e-08]))"
      ]
     },
     "execution_count": 129,
     "metadata": {},
     "output_type": "execute_result"
    }
   ],
   "source": [
    "my_learn.predict(\"how do i order more checkbooks for my well's fargo account\")"
   ]
  },
  {
   "cell_type": "code",
   "execution_count": 130,
   "metadata": {},
   "outputs": [
    {
     "data": {
      "text/plain": [
       "(Category oos,\n",
       " tensor(22),\n",
       " tensor([6.0131e-07, 3.7585e-06, 2.5886e-07, 1.2538e-06, 1.0262e-01, 2.1928e-02,\n",
       "         8.0007e-07, 4.1622e-06, 1.0787e-06, 7.7337e-07, 9.6930e-07, 9.4407e-06,\n",
       "         2.7407e-06, 1.1934e-07, 5.8743e-09, 1.8492e-06, 5.8909e-04, 3.0069e-03,\n",
       "         6.7144e-08, 2.6867e-06, 7.3278e-02, 2.1816e-04, 7.9356e-01, 5.6745e-06,\n",
       "         4.2769e-03, 3.9472e-07, 6.3663e-06, 4.5103e-04, 1.2222e-06, 9.0085e-08,\n",
       "         2.9950e-06, 1.9946e-05, 1.5233e-07, 1.0883e-05, 3.4757e-07]))"
      ]
     },
     "execution_count": 130,
     "metadata": {},
     "output_type": "execute_result"
    }
   ],
   "source": [
    "my_learn.predict(\"Where is my electric bill\")"
   ]
  },
  {
   "cell_type": "code",
   "execution_count": 131,
   "metadata": {},
   "outputs": [
    {
     "data": {
      "text/html": [
       "<div>\n",
       "<style scoped>\n",
       "    .dataframe tbody tr th:only-of-type {\n",
       "        vertical-align: middle;\n",
       "    }\n",
       "\n",
       "    .dataframe tbody tr th {\n",
       "        vertical-align: top;\n",
       "    }\n",
       "\n",
       "    .dataframe thead th {\n",
       "        text-align: right;\n",
       "    }\n",
       "</style>\n",
       "<table border=\"1\" class=\"dataframe\">\n",
       "  <thead>\n",
       "    <tr style=\"text-align: right;\">\n",
       "      <th></th>\n",
       "      <th>label</th>\n",
       "      <th>text</th>\n",
       "    </tr>\n",
       "  </thead>\n",
       "  <tbody>\n",
       "    <tr>\n",
       "      <th>0</th>\n",
       "      <td>account_blocked</td>\n",
       "      <td>can you help me unblock my account</td>\n",
       "    </tr>\n",
       "    <tr>\n",
       "      <th>1</th>\n",
       "      <td>account_blocked</td>\n",
       "      <td>can you check what the problem with my account...</td>\n",
       "    </tr>\n",
       "    <tr>\n",
       "      <th>2</th>\n",
       "      <td>account_blocked</td>\n",
       "      <td>is there a reason you put a hold on my chase a...</td>\n",
       "    </tr>\n",
       "    <tr>\n",
       "      <th>3</th>\n",
       "      <td>account_blocked</td>\n",
       "      <td>why can't i access my chase account</td>\n",
       "    </tr>\n",
       "    <tr>\n",
       "      <th>4</th>\n",
       "      <td>account_blocked</td>\n",
       "      <td>how come my chase account has a hold on it</td>\n",
       "    </tr>\n",
       "  </tbody>\n",
       "</table>\n",
       "</div>"
      ],
      "text/plain": [
       "             label                                               text\n",
       "0  account_blocked                 can you help me unblock my account\n",
       "1  account_blocked  can you check what the problem with my account...\n",
       "2  account_blocked  is there a reason you put a hold on my chase a...\n",
       "3  account_blocked                why can't i access my chase account\n",
       "4  account_blocked         how come my chase account has a hold on it"
      ]
     },
     "execution_count": 131,
     "metadata": {},
     "output_type": "execute_result"
    }
   ],
   "source": [
    "df_test = pd.read_csv('./Test_Intent_Dataset.csv')\n",
    "df_test.head()"
   ]
  },
  {
   "cell_type": "code",
   "execution_count": 132,
   "metadata": {},
   "outputs": [
    {
     "name": "stdout",
     "output_type": "stream",
     "text": [
      "In Scope Accuracy:  87.65\n"
     ]
    }
   ],
   "source": [
    "my_file_1 = open('ulmfit_predictions_2.json', 'w')\n",
    "total_preds = 0\n",
    "correct_preds = 0\n",
    "# print(\"Query,True_label,Prediction,Score\", file = my_file_1)\n",
    "print(\"predict_response = [\", file = my_file_1)\n",
    "for index, row in df_test.iterrows():\n",
    "    pred = my_learn.predict(row['text'])\n",
    "    prob = torch.max(pred[2])\n",
    "    total_preds = total_preds + 1\n",
    "    prediction = pred[0].obj\n",
    "    if row['label'] == prediction:\n",
    "        correct_preds = correct_preds + 1\n",
    "#     print(row['text'],\",\",row['label'],\",\",pred[0],\",\",prob.item(), file = my_file_1)\n",
    "    print(\"{\\\"Query\\\":\\\"\",row['text'],\"\\\",\\\"True_Label\\\":\\\"\",row['label'],\"\\\",\\\"Predicted_Intent\\\":\\\"\",pred[0],\"\\\",\\\"Score\\\":\",prob.item(),\"},\", file = my_file_1)\n",
    "print(\"]\", file = my_file_1)\n",
    "accuracy = round(((correct_preds/total_preds) * 100), 2)\n",
    "print(\"In Scope Accuracy: \", accuracy)\n",
    "my_file_1.close()"
   ]
  },
  {
   "cell_type": "code",
   "execution_count": 133,
   "metadata": {},
   "outputs": [
    {
     "data": {
      "text/html": [
       "<div>\n",
       "<style scoped>\n",
       "    .dataframe tbody tr th:only-of-type {\n",
       "        vertical-align: middle;\n",
       "    }\n",
       "\n",
       "    .dataframe tbody tr th {\n",
       "        vertical-align: top;\n",
       "    }\n",
       "\n",
       "    .dataframe thead th {\n",
       "        text-align: right;\n",
       "    }\n",
       "</style>\n",
       "<table border=\"1\" class=\"dataframe\">\n",
       "  <thead>\n",
       "    <tr style=\"text-align: right;\">\n",
       "      <th></th>\n",
       "      <th>label</th>\n",
       "      <th>text</th>\n",
       "    </tr>\n",
       "  </thead>\n",
       "  <tbody>\n",
       "    <tr>\n",
       "      <th>0</th>\n",
       "      <td>oos</td>\n",
       "      <td>What can you tell me about the bill</td>\n",
       "    </tr>\n",
       "    <tr>\n",
       "      <th>1</th>\n",
       "      <td>oos</td>\n",
       "      <td>Where is my electric bill</td>\n",
       "    </tr>\n",
       "    <tr>\n",
       "      <th>2</th>\n",
       "      <td>oos</td>\n",
       "      <td>About changing the address on a bill</td>\n",
       "    </tr>\n",
       "    <tr>\n",
       "      <th>3</th>\n",
       "      <td>oos</td>\n",
       "      <td>Who will be sending the bill to me</td>\n",
       "    </tr>\n",
       "    <tr>\n",
       "      <th>4</th>\n",
       "      <td>oos</td>\n",
       "      <td>Was it a gas or electric bill</td>\n",
       "    </tr>\n",
       "  </tbody>\n",
       "</table>\n",
       "</div>"
      ],
      "text/plain": [
       "  label                                  text\n",
       "0   oos   What can you tell me about the bill\n",
       "1   oos             Where is my electric bill\n",
       "2   oos  About changing the address on a bill\n",
       "3   oos    Who will be sending the bill to me\n",
       "4   oos         Was it a gas or electric bill"
      ]
     },
     "execution_count": 133,
     "metadata": {},
     "output_type": "execute_result"
    }
   ],
   "source": [
    "df_test_oos = pd.read_csv('./Test_OOS.csv')\n",
    "df_test_oos.head()"
   ]
  },
  {
   "cell_type": "code",
   "execution_count": 134,
   "metadata": {},
   "outputs": [
    {
     "name": "stdout",
     "output_type": "stream",
     "text": [
      "Out Of Scope Accuracy:  83.33\n"
     ]
    }
   ],
   "source": [
    "my_file_2 = open('ulmfit_oos_predictions_2.json', 'w')\n",
    "total_preds = 0\n",
    "correct_preds = 0\n",
    "print(\"predict_response = [\", file = my_file_2)\n",
    "for index, row in df_test_oos.iterrows():\n",
    "    pred = my_learn.predict(row['text'])\n",
    "    prob = torch.max(pred[2])\n",
    "    total_preds = total_preds + 1\n",
    "    prediction = pred[0].obj\n",
    "    if row['label'] == prediction:\n",
    "        correct_preds = correct_preds + 1\n",
    "    print(\"{\\\"Query\\\":\\\"\",row['text'],\"\\\",\\\"True_Label\\\":\\\"\",row['label'],\"\\\",\\\"Predicted_Intent\\\":\\\"\",pred[0],\"\\\",\\\"Score\\\":\",prob.item(),\"},\", file = my_file_2)\n",
    "print(\"]\", file = my_file_2)\n",
    "accuracy = round(((correct_preds/total_preds) * 100), 2)\n",
    "print(\"Out Of Scope Accuracy: \", accuracy)\n",
    "my_file_2.close()"
   ]
  },
  {
   "cell_type": "code",
   "execution_count": null,
   "metadata": {},
   "outputs": [],
   "source": []
  }
 ],
 "metadata": {
  "kernelspec": {
   "display_name": "Python 3",
   "language": "python",
   "name": "python3"
  },
  "language_info": {
   "codemirror_mode": {
    "name": "ipython",
    "version": 3
   },
   "file_extension": ".py",
   "mimetype": "text/x-python",
   "name": "python",
   "nbconvert_exporter": "python",
   "pygments_lexer": "ipython3",
   "version": "3.6.7"
  }
 },
 "nbformat": 4,
 "nbformat_minor": 2
}
